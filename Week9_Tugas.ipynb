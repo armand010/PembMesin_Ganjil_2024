{
  "nbformat": 4,
  "nbformat_minor": 0,
  "metadata": {
    "colab": {
      "provenance": [],
      "authorship_tag": "ABX9TyOPdZNtdtP37uCV/c2XRBGI",
      "include_colab_link": true
    },
    "kernelspec": {
      "name": "python3",
      "display_name": "Python 3"
    },
    "language_info": {
      "name": "python"
    }
  },
  "cells": [
    {
      "cell_type": "markdown",
      "metadata": {
        "id": "view-in-github",
        "colab_type": "text"
      },
      "source": [
        "<a href=\"https://colab.research.google.com/github/armand010/PembMesin_Ganjil_2024/blob/main/Week9_Tugas.ipynb\" target=\"_parent\"><img src=\"https://colab.research.google.com/assets/colab-badge.svg\" alt=\"Open In Colab\"/></a>"
      ]
    },
    {
      "cell_type": "markdown",
      "source": [
        "# TUGAS\n",
        "- Lakukan klasifikasi pada data MNIST dengan menggunakan model ANN\n",
        "\n",
        "- Anda diperbolehkan melakukan eksplorasi terhadap,\n",
        "\n",
        "  - Metode pra pengolahan\n",
        "\n",
        "  - Pemilihan fitur\n",
        "\n",
        "  - Arsitektur ANN\n",
        "\n",
        "  - Fungsi Aktiviasi\n",
        "\n",
        "- ANN diimplementasikan dengan menggunakan tensorflow.\n",
        "\n",
        "- **DIKERJAKAN SECARA BERKELOMPOK**\n",
        "\n",
        "- **JELASKAN HASIL YANG ANDA DAPATKAN,**\n",
        "\n",
        "  - **AKURASI**\n",
        "\n",
        "  - **CONFUSION MATRIX**\n",
        "\n",
        "  - **KONFIGURASI MODEL --> MULAI DARI PRA PENGOLAHAN SAMPAI ARSITEKTUR ANN**"
      ],
      "metadata": {
        "id": "jes8kk2rI_da"
      }
    },
    {
      "cell_type": "markdown",
      "source": [
        "## Import Library"
      ],
      "metadata": {
        "id": "ER8F-oKznnDL"
      }
    },
    {
      "cell_type": "code",
      "execution_count": 4,
      "metadata": {
        "id": "573x22TgI0wa"
      },
      "outputs": [],
      "source": [
        "import numpy as np\n",
        "import tensorflow as tf\n",
        "from tensorflow.keras.datasets import mnist\n",
        "from tensorflow.keras.models import Sequential\n",
        "from tensorflow.keras.layers import Dense, Flatten, Input\n",
        "from sklearn.metrics import confusion_matrix, accuracy_score\n",
        "import seaborn as sns\n",
        "import matplotlib.pyplot as plt"
      ]
    },
    {
      "cell_type": "markdown",
      "source": [
        "## Pra-pengolahan Data"
      ],
      "metadata": {
        "id": "3g6XCfycpKK5"
      }
    },
    {
      "cell_type": "code",
      "source": [
        "# Load dataset MNIST\n",
        "(X_train, y_train), (X_test, y_test) = mnist.load_data()\n",
        "\n",
        "# Normalisasi pixel ke rentang [0, 1]\n",
        "X_train = X_train / 255.0\n",
        "X_test = X_test / 255.0\n",
        "\n",
        "# One-hot encoding pada label\n",
        "y_train = tf.keras.utils.to_categorical(y_train, 10)\n",
        "y_test = tf.keras.utils.to_categorical(y_test, 10)"
      ],
      "metadata": {
        "colab": {
          "base_uri": "https://localhost:8080/"
        },
        "id": "4vKSfLndpK63",
        "outputId": "c3ca8950-26c5-4437-af69-dec8af2401cf"
      },
      "execution_count": 2,
      "outputs": [
        {
          "output_type": "stream",
          "name": "stdout",
          "text": [
            "Downloading data from https://storage.googleapis.com/tensorflow/tf-keras-datasets/mnist.npz\n",
            "\u001b[1m11490434/11490434\u001b[0m \u001b[32m━━━━━━━━━━━━━━━━━━━━\u001b[0m\u001b[37m\u001b[0m \u001b[1m0s\u001b[0m 0us/step\n"
          ]
        }
      ]
    },
    {
      "cell_type": "markdown",
      "source": [
        "## ANN"
      ],
      "metadata": {
        "id": "DWRG7A64pVcf"
      }
    },
    {
      "cell_type": "code",
      "source": [
        "# Inisiasi model ANN\n",
        "model = Sequential()\n",
        "\n",
        "# Input layer with shape (28, 28)\n",
        "model.add(Input(shape=(28, 28)))\n",
        "\n",
        "# Flatten layer to flatten input 28x28 into a vector 784\n",
        "model.add(Flatten())\n",
        "\n",
        "# Hidden layer pertama dengan 128 neuron dan ReLU\n",
        "model.add(Dense(units=128, activation='relu'))\n",
        "\n",
        "# Hidden layer kedua dengan 64 neuron dan ReLU\n",
        "model.add(Dense(units=64, activation='relu'))\n",
        "\n",
        "# Output layer dengan 10 neuron (untuk 10 digit) dan softmax activation\n",
        "model.add(Dense(units=10, activation='softmax'))"
      ],
      "metadata": {
        "id": "J9DJl88CpXnI"
      },
      "execution_count": 5,
      "outputs": []
    },
    {
      "cell_type": "markdown",
      "source": [
        "## Kompilasi dan Pelatihan Model"
      ],
      "metadata": {
        "id": "IzhR0tpNpeiY"
      }
    },
    {
      "cell_type": "code",
      "source": [
        "# Kompilasi model\n",
        "model.compile(optimizer='adam', loss='categorical_crossentropy', metrics=['accuracy'])\n",
        "\n",
        "# Latih model dengan data latih\n",
        "history = model.fit(X_train, y_train, batch_size=32, epochs=10, validation_split=0.2)"
      ],
      "metadata": {
        "colab": {
          "base_uri": "https://localhost:8080/"
        },
        "id": "LGRam6KWphjo",
        "outputId": "82fb9e9a-4048-4808-9962-d46d50e8d555"
      },
      "execution_count": 6,
      "outputs": [
        {
          "output_type": "stream",
          "name": "stdout",
          "text": [
            "Epoch 1/10\n",
            "\u001b[1m1500/1500\u001b[0m \u001b[32m━━━━━━━━━━━━━━━━━━━━\u001b[0m\u001b[37m\u001b[0m \u001b[1m9s\u001b[0m 5ms/step - accuracy: 0.8647 - loss: 0.4674 - val_accuracy: 0.9572 - val_loss: 0.1434\n",
            "Epoch 2/10\n",
            "\u001b[1m1500/1500\u001b[0m \u001b[32m━━━━━━━━━━━━━━━━━━━━\u001b[0m\u001b[37m\u001b[0m \u001b[1m8s\u001b[0m 4ms/step - accuracy: 0.9656 - loss: 0.1150 - val_accuracy: 0.9678 - val_loss: 0.1049\n",
            "Epoch 3/10\n",
            "\u001b[1m1500/1500\u001b[0m \u001b[32m━━━━━━━━━━━━━━━━━━━━\u001b[0m\u001b[37m\u001b[0m \u001b[1m13s\u001b[0m 5ms/step - accuracy: 0.9770 - loss: 0.0768 - val_accuracy: 0.9689 - val_loss: 0.1004\n",
            "Epoch 4/10\n",
            "\u001b[1m1500/1500\u001b[0m \u001b[32m━━━━━━━━━━━━━━━━━━━━\u001b[0m\u001b[37m\u001b[0m \u001b[1m11s\u001b[0m 7ms/step - accuracy: 0.9827 - loss: 0.0540 - val_accuracy: 0.9725 - val_loss: 0.0963\n",
            "Epoch 5/10\n",
            "\u001b[1m1500/1500\u001b[0m \u001b[32m━━━━━━━━━━━━━━━━━━━━\u001b[0m\u001b[37m\u001b[0m \u001b[1m16s\u001b[0m 5ms/step - accuracy: 0.9863 - loss: 0.0399 - val_accuracy: 0.9761 - val_loss: 0.0852\n",
            "Epoch 6/10\n",
            "\u001b[1m1500/1500\u001b[0m \u001b[32m━━━━━━━━━━━━━━━━━━━━\u001b[0m\u001b[37m\u001b[0m \u001b[1m9s\u001b[0m 4ms/step - accuracy: 0.9894 - loss: 0.0337 - val_accuracy: 0.9722 - val_loss: 0.0965\n",
            "Epoch 7/10\n",
            "\u001b[1m1500/1500\u001b[0m \u001b[32m━━━━━━━━━━━━━━━━━━━━\u001b[0m\u001b[37m\u001b[0m \u001b[1m7s\u001b[0m 5ms/step - accuracy: 0.9918 - loss: 0.0268 - val_accuracy: 0.9749 - val_loss: 0.0999\n",
            "Epoch 8/10\n",
            "\u001b[1m1500/1500\u001b[0m \u001b[32m━━━━━━━━━━━━━━━━━━━━\u001b[0m\u001b[37m\u001b[0m \u001b[1m15s\u001b[0m 8ms/step - accuracy: 0.9932 - loss: 0.0220 - val_accuracy: 0.9748 - val_loss: 0.1122\n",
            "Epoch 9/10\n",
            "\u001b[1m1500/1500\u001b[0m \u001b[32m━━━━━━━━━━━━━━━━━━━━\u001b[0m\u001b[37m\u001b[0m \u001b[1m8s\u001b[0m 5ms/step - accuracy: 0.9924 - loss: 0.0219 - val_accuracy: 0.9750 - val_loss: 0.1056\n",
            "Epoch 10/10\n",
            "\u001b[1m1500/1500\u001b[0m \u001b[32m━━━━━━━━━━━━━━━━━━━━\u001b[0m\u001b[37m\u001b[0m \u001b[1m10s\u001b[0m 6ms/step - accuracy: 0.9944 - loss: 0.0161 - val_accuracy: 0.9762 - val_loss: 0.1114\n"
          ]
        }
      ]
    },
    {
      "cell_type": "markdown",
      "source": [
        "## Evaluasi Model"
      ],
      "metadata": {
        "id": "H_k0nG3gplpl"
      }
    },
    {
      "cell_type": "code",
      "source": [
        "# Evaluasi model pada data uji\n",
        "test_loss, test_accuracy = model.evaluate(X_test, y_test)\n",
        "print(f'Akurasi pada data uji: {test_accuracy * 100:.2f}%')\n",
        "\n",
        "# Prediksi hasil pada data uji\n",
        "y_pred = model.predict(X_test)\n",
        "y_pred_classes = np.argmax(y_pred, axis=1)\n",
        "y_true = np.argmax(y_test, axis=1)\n",
        "\n",
        "# Confusion matrix\n",
        "cm = confusion_matrix(y_true, y_pred_classes)\n",
        "\n",
        "# Plot confusion matrix\n",
        "plt.figure(figsize=(10, 7))\n",
        "sns.heatmap(cm, annot=True, fmt='d', cmap='Blues', cbar=False)\n",
        "plt.xlabel('Predicted')\n",
        "plt.ylabel('True')\n",
        "plt.show()"
      ],
      "metadata": {
        "colab": {
          "base_uri": "https://localhost:8080/",
          "height": 671
        },
        "id": "DNc3d2PGpncR",
        "outputId": "5a900db4-8557-4599-fcfa-e6917f03e28f"
      },
      "execution_count": 7,
      "outputs": [
        {
          "output_type": "stream",
          "name": "stdout",
          "text": [
            "\u001b[1m313/313\u001b[0m \u001b[32m━━━━━━━━━━━━━━━━━━━━\u001b[0m\u001b[37m\u001b[0m \u001b[1m1s\u001b[0m 2ms/step - accuracy: 0.9756 - loss: 0.1114\n",
            "Akurasi pada data uji: 97.82%\n",
            "\u001b[1m313/313\u001b[0m \u001b[32m━━━━━━━━━━━━━━━━━━━━\u001b[0m\u001b[37m\u001b[0m \u001b[1m1s\u001b[0m 2ms/step\n"
          ]
        },
        {
          "output_type": "display_data",
          "data": {
            "text/plain": [
              "<Figure size 1000x700 with 1 Axes>"
            ],
            "image/png": "[encoded data removed]"
          },
          "metadata": {}
        }
      ]
    },
    {
      "cell_type": "markdown",
      "source": [
        "# Penjelasan\n",
        "\n",
        "1. Akurasi\n",
        "  - Model mencapai akurasi sekitar 97.82% setelah 10 epoch pelatihan. Akurasi ini menunjukkan bahwa model sangat mampu memprediksi dengan baik digit-digit pada data MNIST.\n",
        "\n",
        "2. Confusion Matrix\n",
        "  - Pada digit MNIST, kesalahan paling sering terjadi pada angka yang memiliki kemiripan dalam bentuk, seperti antara angka \"5\" dan \"3\", atau \"4\" dan \"9\".\n",
        "\n",
        "3. Konfigurasi Model\n",
        "  - Pra-pengolahan: Normalisasi piksel gambar dan one-hot encoding label.\n",
        "  - Arsitektur ANN:\n",
        "    - Input: Gambar yang diratakan menjadi vektor 784 elemen.\n",
        "    - Hidden Layer 1: 128 neuron dengan ReLU.\n",
        "    - Hidden Layer 2: 64 neuron dengan ReLU.\n",
        "    - Output Layer: 10 neuron dengan softmax.\n",
        "  - Optimizer: Adam.\n",
        "  - Loss Function: Categorical Crossentropy.\n",
        "  - Epochs: 10."
      ],
      "metadata": {
        "id": "RiKY9T5CkGwT"
      }
    }
  ]
}