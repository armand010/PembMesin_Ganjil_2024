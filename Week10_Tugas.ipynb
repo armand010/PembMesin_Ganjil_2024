{
  "nbformat": 4,
  "nbformat_minor": 0,
  "metadata": {
    "colab": {
      "provenance": [],
      "gpuType": "T4",
      "authorship_tag": "ABX9TyOF4OquTq2YoVLXT/sBvdsB",
      "include_colab_link": true
    },
    "kernelspec": {
      "name": "python3",
      "display_name": "Python 3"
    },
    "language_info": {
      "name": "python"
    },
    "accelerator": "GPU"
  },
  "cells": [
    {
      "cell_type": "markdown",
      "metadata": {
        "id": "view-in-github",
        "colab_type": "text"
      },
      "source": [
        "<a href=\"https://colab.research.google.com/github/armand010/PembMesin_Ganjil_2024/blob/main/Week10_Tugas.ipynb\" target=\"_parent\"><img src=\"https://colab.research.google.com/assets/colab-badge.svg\" alt=\"Open In Colab\"/></a>"
      ]
    },
    {
      "cell_type": "markdown",
      "source": [
        "# Identitas Kelompok\n",
        "1. Armand Maulana Andika Putra (2241720090)\n",
        "2. Bagus Arnovario Wibowo (2241720225)\n",
        "3. Muhammad Harafsan Alhad (2241720059)\n",
        "4. Yonatan Efrassetyo (2241720063)\n",
        "\n",
        "Link Github: https://github.com/armand010/PembMesin_Ganjil_2024/blob/main/Week10_Tugas.ipynb\n",
        "\n"
      ],
      "metadata": {
        "id": "2R_G7dhYgKNT"
      }
    },
    {
      "cell_type": "markdown",
      "source": [
        "---"
      ],
      "metadata": {
        "id": "G8RicmutggV-"
      }
    },
    {
      "cell_type": "markdown",
      "source": [
        "# Tugas\n",
        "Prosedur pelatihan pada praktikum 2 merupakan prosedur sederhana, yang tidak memberi Anda banyak kendali. Model ini menggunakan \"teacher-forcing\" yang mencegah prediksi buruk diumpankan kembali ke model, sehingga model tidak pernah belajar untuk pulih dari kesalahan. Jadi, setelah Anda melihat cara menjalankan model secara manual, selanjutnya Anda akan mengimplementasikan custom loop pelatihan. Hal ini memberikan titik awal jika, misalnya, Anda ingin menerapkan pembelajaran kurikulum untuk membantu menstabilkan keluaran open-loop model. Bagian terpenting dari loop pelatihan khusus adalah fungsi langkah pelatihan.\n",
        "\n",
        "Gunakan tf.GradientTape untuk men track nilai gradient. Anda dapat mempelajari lebih lanjut tentang pendekatan ini dengan membaca eager execution guide.\n",
        "\n",
        "Prosedurnya adalah \"\n",
        "\n",
        "1. Jalankan Model dan hitung loss dengan tf.GradientTape.\n",
        "\n",
        "2. Hitung update dan terapkan pada model dengan optimizer"
      ],
      "metadata": {
        "id": "jHJGLk6HdEX4"
      }
    },
    {
      "cell_type": "code",
      "execution_count": null,
      "metadata": {
        "id": "Xwyy5LSuKsqu"
      },
      "outputs": [],
      "source": [
        "class CustomTraining(MyModel):\n",
        "  @tf.function\n",
        "  def train_step(self, inputs):\n",
        "      inputs, labels = inputs\n",
        "      with tf.GradientTape() as tape:\n",
        "          predictions = self(inputs, training=True)\n",
        "          loss = self.loss(labels, predictions)\n",
        "      grads = tape.gradient(loss, model.trainable_variables)\n",
        "      self.optimizer.apply_gradients(zip(grads, model.trainable_variables))\n",
        "\n",
        "      return {'loss': loss}"
      ]
    },
    {
      "cell_type": "markdown",
      "source": [
        "Kode diatas menerapkan train_step method sesuai dengan  Keras' train_step conventions. Ini opsional, tetapi memungkinkan Anda mengubah perilaku langkah pelatihan dan tetap menggunakan keras Model.compile and Model.fit methods."
      ],
      "metadata": {
        "id": "RMenWWNPdKLr"
      }
    },
    {
      "cell_type": "code",
      "source": [
        "model = CustomTraining(\n",
        "    vocab_size=len(ids_from_chars.get_vocabulary()),\n",
        "    embedding_dim=embedding_dim,\n",
        "    rnn_units=rnn_units)"
      ],
      "metadata": {
        "id": "PgJp50UTdMr7"
      },
      "execution_count": null,
      "outputs": []
    },
    {
      "cell_type": "code",
      "source": [
        "model.compile(optimizer = tf.keras.optimizers.Adam(),\n",
        "              loss=tf.keras.losses.SparseCategoricalCrossentropy(from_logits=True))"
      ],
      "metadata": {
        "id": "iBFnfMYGdPHf"
      },
      "execution_count": null,
      "outputs": []
    },
    {
      "cell_type": "code",
      "source": [
        "model.fit(dataset, epochs=1)"
      ],
      "metadata": {
        "id": "1zIKvRXDdSXH"
      },
      "execution_count": null,
      "outputs": []
    },
    {
      "cell_type": "markdown",
      "source": [
        "Atau jika ingin lebih mengetahui dalamnya, kita bisa membuat custom training loop sendiri:"
      ],
      "metadata": {
        "id": "4Jqeg0tndTtO"
      }
    },
    {
      "cell_type": "code",
      "source": [
        "EPOCHS = 10\n",
        "\n",
        "mean = tf.metrics.Mean()\n",
        "\n",
        "for epoch in range(EPOCHS):\n",
        "    start = time.time()\n",
        "\n",
        "    mean.reset_states()\n",
        "    for (batch_n, (inp, target)) in enumerate(dataset):\n",
        "        logs = model.train_step([inp, target])\n",
        "        mean.update_state(logs['loss'])\n",
        "\n",
        "        if batch_n % 50 == 0:\n",
        "            template = f\"Epoch {epoch+1} Batch {batch_n} Loss {logs['loss']:.4f}\"\n",
        "            print(template)\n",
        "\n",
        "    # saving (checkpoint) the model every 5 epochs\n",
        "    if (epoch + 1) % 5 == 0:\n",
        "        model.save_weights(checkpoint_prefix.format(epoch=epoch))\n",
        "\n",
        "    print()\n",
        "    print(f'Epoch {epoch+1} Loss: {mean.result().numpy():.4f}')\n",
        "    print(f'Time taken for 1 epoch {time.time() - start:.2f} sec')\n",
        "    print(\"_\"*80)\n",
        "\n",
        "model.save_weights(checkpoint_prefix.format(epoch=epoch))"
      ],
      "metadata": {
        "id": "wtaMBpm8dUkY"
      },
      "execution_count": null,
      "outputs": []
    },
    {
      "cell_type": "markdown",
      "source": [
        "Jalankan kode diatas dan sebutkan perbedaanya dengan praktikum 2?"
      ],
      "metadata": {
        "id": "XM9klbF8dX48"
      }
    },
    {
      "cell_type": "markdown",
      "source": [
        "---"
      ],
      "metadata": {
        "id": "Hp1YHHl0gl-N"
      }
    },
    {
      "cell_type": "markdown",
      "source": [
        "# Jawaban\n",
        "\n",
        "1. Kontrol dan Visibilitas Pelatihan:\n",
        "  - Original (Praktikum 2):\n",
        "    - Menggunakan Keras model.fit() standar\n",
        "    - Proses pelatihan tersembunyi/abstrak\n",
        "    - Kurang fleksibel untuk modifikasi\n",
        "  - New (Tugas):\n",
        "    - Memberikan kontrol yang lebih detail melalui:\n",
        "    - Method train_step yang bisa dikustomisasi\n",
        "    - Perhitungan gradient eksplisit menggunakan tf.GradientTape\n",
        "    - Pelacakan metrik manual\n",
        "    - Pelaporan progress yang lebih detail per batch\n",
        "\n",
        "2. Pemulihan dari Kesalahan:\n",
        "  - Original:\n",
        "    - Menggunakan \"teacher forcing\" dimana model hanya melihat urutan yang benar selama pelatihan\n",
        "    - Tidak belajar memulihkan diri dari kesalahan\n",
        "  - New:\n",
        "    - Bisa dimodifikasi agar model belajar dari kesalahannya\n",
        "    - Lebih fleksibel dalam penanganan kesalahan prediksi\n",
        "\n",
        "3. Struktur Implementasi:\n",
        "  - Original:\n",
        "```\n",
        "model.compile(optimizer='adam', loss=loss)\n",
        "history = model.fit(dataset, epochs=5, callbacks=[checkpoint_callback])\n",
        "```\n",
        "  - New:\n",
        "    - Menggunakan konvensi Keras\n",
        "```\n",
        "class CustomTraining(MyModel):\n",
        "    @tf.function\n",
        "    def train_step(self, inputs):\n",
        "        # Logika pelatihan kustom disini\n",
        "```\n",
        "    - Loop pelatihan sepenuhnya kustom\n",
        "```\n",
        "for epoch in range(EPOCHS):\n",
        "    for (batch_n, (inp, target)) in enumerate(dataset):\n",
        "        logs = model.train_step([inp, target])\n",
        "        # Pelacakan metrik dan pelaporan manual\n",
        "```\n",
        "4. Fleksibilitas dan Ekstensibilitas:\n",
        "  - Original:\n",
        "    - Terbatas pada prosedur pelatihan bawaan Keras\n",
        "    - Sulit dimodifikasi\n",
        "  - New:\n",
        "    - Perhitungan loss yang dikustomisasi\n",
        "    - Manipulasi gradient yang lebih detail\n",
        "    - Pemantauan progress pelatihan yang lebih baik\n",
        "    - Implementasi pembelajaran kurikulum\n",
        "    -  penyimpanan checkpoint yang bisa disesuaikan\n",
        "5. Pemantauan Kinerja:\n",
        "  - Original:\n",
        "    - Hanya pelaporan tingkat epoch dasar\n",
        "  - New:\n",
        "    - Pemantauan lebih detail dengan:\n",
        "      - Pelaporan loss per batch\n",
        "      - Pelacakan metrik kustom\n",
        "      - Pelacakan waktu eksplisit per epoch\n",
        "      - Penyimpanan checkpoint lebih sering (setiap 5 epoch)\n",
        "\n",
        "\n",
        "\n",
        "Keunggulan implementasi yang baru:\n",
        "\n",
        "1. Memudahkan debug masalah pelatihan\n",
        "2. Bisa menerapkan teknik pelatihan yang lebih advanced\n",
        "3. Memantau dan menyesuaikan proses pelatihan secara real-time\n",
        "4. Memodifikasi cara model belajar dari kesalahannya\n",
        "\n",
        "Dengan implementasi yang baru, kita mendapatkan kontrol penuh atas proses pelatihan dan bisa menyesuaikannya sesuai kebutuhan spesifik, berbeda dengan implementasi original yang lebih kaku dan terbatas pada fitur bawaan Keras."
      ],
      "metadata": {
        "id": "aQiYhLTQdcT8"
      }
    }
  ]
}