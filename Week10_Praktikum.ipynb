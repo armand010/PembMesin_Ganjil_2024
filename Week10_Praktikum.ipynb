{
  "nbformat": 4,
  "nbformat_minor": 0,
  "metadata": {
    "colab": {
      "provenance": [],
      "gpuType": "V28",
      "authorship_tag": "ABX9TyOA9NDwu7bezP3WrsPa7iyD",
      "include_colab_link": true
    },
    "kernelspec": {
      "name": "python3",
      "display_name": "Python 3"
    },
    "language_info": {
      "name": "python"
    },
    "accelerator": "TPU"
  },
  "cells": [
    {
      "cell_type": "markdown",
      "metadata": {
        "id": "view-in-github",
        "colab_type": "text"
      },
      "source": [
        "<a href=\"https://colab.research.google.com/github/armand010/PembMesin_Ganjil_2024/blob/main/Week10_Praktikum.ipynb\" target=\"_parent\"><img src=\"https://colab.research.google.com/assets/colab-badge.svg\" alt=\"Open In Colab\"/></a>"
      ]
    },
    {
      "cell_type": "markdown",
      "source": [
        "1. Nama : Armand Maulana Andika Putra\n",
        "\n",
        "2. Kelas : TI-3C\n",
        "\n",
        "3. NIM : 2241720090"
      ],
      "metadata": {
        "id": "DoiAsTGNb_a1"
      }
    },
    {
      "cell_type": "markdown",
      "source": [
        "# Praktikum 1 - RNN untuk Analisis Sentimen"
      ],
      "metadata": {
        "id": "5aRGU7ZSZHRW"
      }
    },
    {
      "cell_type": "markdown",
      "source": [
        "## Setup\n",
        "Impor matplotlib dan buat fungsi pembantu untuk memplot grafik:"
      ],
      "metadata": {
        "id": "BC5UaWdfZNnM"
      }
    },
    {
      "cell_type": "code",
      "execution_count": 1,
      "metadata": {
        "id": "YqzYW2R9Yoj5"
      },
      "outputs": [],
      "source": [
        "import numpy as np\n",
        "import tensorflow_datasets as tfds\n",
        "import tensorflow as tf\n",
        "\n",
        "tfds.disable_progress_bar()"
      ]
    },
    {
      "cell_type": "code",
      "source": [
        "import matplotlib.pyplot as plt\n",
        "\n",
        "def plot_graphs(history, metric):\n",
        "  plt.plot(history.history[metric])\n",
        "  plt.plot(history.history['val_'+metric], '')\n",
        "  plt.xlabel(\"Epochs\")\n",
        "  plt.ylabel(metric)\n",
        "  plt.legend([metric, 'val_'+metric])"
      ],
      "metadata": {
        "id": "vKgLNx3VZVoU"
      },
      "execution_count": 2,
      "outputs": []
    },
    {
      "cell_type": "markdown",
      "source": [
        "## Setup input pipeline\n",
        "Dataset ulasan film IMDB adalah kumpulan data klasifikasi biner—semua ulasan memiliki sentimen positif atau negatif.\n",
        "\n",
        "Download dataset menggunakan TFDS. Lihat loading text tutorial jika ingin me load data secara manual"
      ],
      "metadata": {
        "id": "FCTydNT7bDNB"
      }
    },
    {
      "cell_type": "code",
      "source": [
        "dataset, info = tfds.load('imdb_reviews', with_info=True,\n",
        "                          as_supervised=True)\n",
        "train_dataset, test_dataset = dataset['train'], dataset['test']\n",
        "\n",
        "train_dataset.element_spec"
      ],
      "metadata": {
        "colab": {
          "base_uri": "https://localhost:8080/"
        },
        "id": "D8aM4qFgbCts",
        "outputId": "cbe3f0fd-e134-442b-919a-c76d5112b31b"
      },
      "execution_count": 3,
      "outputs": [
        {
          "output_type": "stream",
          "name": "stdout",
          "text": [
            "Downloading and preparing dataset 80.23 MiB (download: 80.23 MiB, generated: Unknown size, total: 80.23 MiB) to /root/tensorflow_datasets/imdb_reviews/plain_text/1.0.0...\n",
            "Dataset imdb_reviews downloaded and prepared to /root/tensorflow_datasets/imdb_reviews/plain_text/1.0.0. Subsequent calls will reuse this data.\n"
          ]
        },
        {
          "output_type": "execute_result",
          "data": {
            "text/plain": [
              "(TensorSpec(shape=(), dtype=tf.string, name=None),\n",
              " TensorSpec(shape=(), dtype=tf.int64, name=None))"
            ]
          },
          "metadata": {},
          "execution_count": 3
        }
      ]
    },
    {
      "cell_type": "markdown",
      "source": [
        "Awalnya ini mengembalikan dataset (teks, pasangan label):"
      ],
      "metadata": {
        "id": "tS5hR73bbmGP"
      }
    },
    {
      "cell_type": "code",
      "source": [
        "for example, label in train_dataset.take(1):\n",
        "  print('text: ', example.numpy())\n",
        "  print('label: ', label.numpy())"
      ],
      "metadata": {
        "colab": {
          "base_uri": "https://localhost:8080/"
        },
        "id": "nhw_mfHXbnN_",
        "outputId": "de298719-bcfc-41a7-8dc6-fadf75729b29"
      },
      "execution_count": 4,
      "outputs": [
        {
          "output_type": "stream",
          "name": "stdout",
          "text": [
            "text:  b\"This was an absolutely terrible movie. Don't be lured in by Christopher Walken or Michael Ironside. Both are great actors, but this must simply be their worst role in history. Even their great acting could not redeem this movie's ridiculous storyline. This movie is an early nineties US propaganda piece. The most pathetic scenes were those when the Columbian rebels were making their cases for revolutions. Maria Conchita Alonso appeared phony, and her pseudo-love affair with Walken was nothing but a pathetic emotional plug in a movie that was devoid of any real meaning. I am disappointed that there are movies like this, ruining actor's like Christopher Walken's good name. I could barely sit through it.\"\n",
            "label:  0\n"
          ]
        }
      ]
    },
    {
      "cell_type": "markdown",
      "source": [
        "Berikutnya acak data untuk pelatihan dan membuat kumpulan pasangan (teks, label) ini:"
      ],
      "metadata": {
        "id": "L7NxN4oObpOe"
      }
    },
    {
      "cell_type": "code",
      "source": [
        "BUFFER_SIZE = 10000\n",
        "BATCH_SIZE = 64\n",
        "\n",
        "train_dataset = train_dataset.shuffle(BUFFER_SIZE).batch(BATCH_SIZE).prefetch(tf.data.AUTOTUNE)\n",
        "test_dataset = test_dataset.batch(BATCH_SIZE).prefetch(tf.data.AUTOTUNE)\n",
        "\n",
        "for example, label in train_dataset.take(1):\n",
        "  print('texts: ', example.numpy()[:3])\n",
        "  print()\n",
        "  print('labels: ', label.numpy()[:3])"
      ],
      "metadata": {
        "colab": {
          "base_uri": "https://localhost:8080/"
        },
        "id": "GHKb_CnzbqjO",
        "outputId": "7c20994c-3f70-441b-a237-5fdf6eda9ac5"
      },
      "execution_count": 5,
      "outputs": [
        {
          "output_type": "stream",
          "name": "stdout",
          "text": [
            "texts:  [b\"The film begins with Vincent Price about to begin his performance as a magician. However, mid-way through the very successful show, the police come and shut him down. It seems that his old boss had cheated him out of the tricks Price had created--even those he made on his own time at home. As a result, Price justifiably kills the evil man. The problem is that while the viewer understood why Price killed and most probably thought this was a GOOD thing, because Price was a bit mad, he just couldn't stop at one (sort of like eating Lay's Potato Chips).<br /><br />The film was full of very creative and spectacular magic tricks (including a huge circular saw and a crematorium for the shows), great plot twists as well as exciting action. One thing you can't say about this film is that it is dull. While it's also far from subtle, it is fun throughout, though and well worth a look.<br /><br />Had I never seen Vincent Price's version of HOUSE OF WAX, I probably would have liked THE MAD MAGICIAN a lot more and scored it an 8 or 9. That's because while THE MAD MAGICIAN is a wonderful film, it's highly reminiscent of the film that preceded it (HOUSE OF WAX). The bottom line is that since HOUSE OF WAX was so successful, the formula was re-hashed in the follow-up film. Both were made in 3-D, both have a plot where Price has every justification to kill but he can't stop once he's committed the first and both are great fun to watch. The biggest differences, and there are few, are that HOUSE OF WAX was in color and was more of a horror film and THE MAD MAGICIAN was definitely more of a mystery.<br /><br />My advice is to see this film AND HOUSE OF WAX (the Price version only). They are both terrific 1950s horror films.\"\n",
            " b'The Secret Fury, in many ways a run-of-the-mill romantic suspense drama (directed by Mel Ferrer) boasts top-notch principals in Colbert and Ryan; it stays puzzling if not quite gripping until towards the end, when implausibility conquers suspension of disbelief -- as so often it does in this genre. But for some viewers the film\\'s highlight will be the portrayal of blowsy Leah by Vivian Vance -- the immortal Ethel Mertz on \"I Love Lucy.\" Oddly, Vance had very few film roles; her true home was Broadway, where (among other gigs) she understudied for Ethel Merman. Here she contributes a winning turn as a chambermaid suborned to play a minor part in a nefarious scheme; watch her half-heartedly trying to wave away the smoke when she\\'s puffing a furtive cigarette in the hotel\\'s linen-storage room -- a transgression for which she ultimately pays the supreme penalty.'\n",
            " b\"I think the comments regarding the show being cheesy are a bit too exaggerated. When a person comes to watch a TV show, what does he look out for? It is to enjoy that he watches a show, unless he/she is a critic or a person who analyzes story. But most of us are not so and watch the shows to relax and enjoy. FULL HOUSE is an ideal show to watch after having a heavy day in the office/school. It makes you laugh and it is not just humor.<br /><br />Yes, the Tanner family is a perfect family, a perfectly hypothetical family. If any such family existed in real world, it would be a role model for us to follow. But this is a TV show, and not a real family, and there is nothing wrong in depicting a hypothetical family on television. The very fact that the show could run so long shows us that people enjoyed watching it, whatever be the comments later on.<br /><br />Another good point about the show is that any person of any age would not only enjoy watching it, but would take back a message however childish that message be. Those Jesse's talks with Michelle are extremely touching, if one doesn't think of it as childish.<br /><br />Overall I would say after watching every show of Full House, there is a contentment in your heart that is rarely present after many other shows.\"]\n",
            "\n",
            "labels:  [1 1 1]\n"
          ]
        }
      ]
    },
    {
      "cell_type": "markdown",
      "source": [
        "## Buat Teks Encoder\n",
        "Teks mentah yang dimuat oleh tfds perlu diproses sebelum dapat digunakan dalam model. Cara termudah memproses teks untuk pelatihan adalah menggunakan lapisan TextVectorization. Lapisan ini memiliki banyak kemampuan, namun pada tutorial ini menggunakan perilaku default. Buat lapisan tersebut, dan teruskan teks kumpulan data ke metode .adapt lapisan:"
      ],
      "metadata": {
        "id": "E7gKQ8fgbxVX"
      }
    },
    {
      "cell_type": "code",
      "source": [
        "VOCAB_SIZE = 1000\n",
        "encoder = tf.keras.layers.TextVectorization(\n",
        "    max_tokens=VOCAB_SIZE)\n",
        "encoder.adapt(train_dataset.map(lambda text, label: text))"
      ],
      "metadata": {
        "id": "0ZVt7jRdbyVu"
      },
      "execution_count": 6,
      "outputs": []
    },
    {
      "cell_type": "markdown",
      "source": [
        "Metode .adapt mengatur kosakata lapisan. 20 token pertama dapat dilihat dengan kode berikut. Setelah padding dan token yang tidak diketahui, mereka diurutkan berdasarkan frekuensi:"
      ],
      "metadata": {
        "id": "3qnT1Rx3b-rS"
      }
    },
    {
      "cell_type": "code",
      "source": [
        "vocab = np.array(encoder.get_vocabulary())\n",
        "vocab[:20]"
      ],
      "metadata": {
        "colab": {
          "base_uri": "https://localhost:8080/"
        },
        "id": "0QPiOZdocABh",
        "outputId": "f3a41bb2-7ac4-4f74-8040-3d31b7c7c14b"
      },
      "execution_count": 7,
      "outputs": [
        {
          "output_type": "execute_result",
          "data": {
            "text/plain": [
              "array(['', '[UNK]', 'the', 'and', 'a', 'of', 'to', 'is', 'in', 'it', 'i',\n",
              "       'this', 'that', 'br', 'was', 'as', 'for', 'with', 'movie', 'but'],\n",
              "      dtype='<U14')"
            ]
          },
          "metadata": {},
          "execution_count": 7
        }
      ]
    },
    {
      "cell_type": "markdown",
      "source": [
        "Setelah kosakata diatur, lapisan dapat mengkodekan teks ke dalam indeks. Tensor indeks diberi bantalan 0 ke urutan terpanjang dalam batch (kecuali jika Anda menetapkan output_sequence_length tetap):"
      ],
      "metadata": {
        "id": "htTzBJF2cDdK"
      }
    },
    {
      "cell_type": "code",
      "source": [
        "encoded_example = encoder(example)[:3].numpy()\n",
        "encoded_example"
      ],
      "metadata": {
        "colab": {
          "base_uri": "https://localhost:8080/"
        },
        "id": "MO7bXzjZcEe2",
        "outputId": "605b4a34-8f75-4e1c-cc60-ce8aca48789e"
      },
      "execution_count": 8,
      "outputs": [
        {
          "output_type": "execute_result",
          "data": {
            "text/plain": [
              "array([[  2,  20, 760, ...,   0,   0,   0],\n",
              "       [  2, 991,   1, ...,   0,   0,   0],\n",
              "       [ 10, 103,   2, ...,   0,   0,   0]])"
            ]
          },
          "metadata": {},
          "execution_count": 8
        }
      ]
    },
    {
      "cell_type": "markdown",
      "source": [
        "Dengan pengaturan default, prosesnya tidak dapat dibalik sepenuhnya. Ada dua alasan utama untuk itu:\n",
        "\n",
        "- Nilai default untuk argumen standarisasi preprocessing.TextVectorization adalah \"lower_and_strip_punctuation\".\n",
        "\n",
        "- Ukuran kosa kata yang terbatas dan kurangnya fallback berbasis karakter menghasilkan beberapa token yang tidak diketahui."
      ],
      "metadata": {
        "id": "ehYzv8IeeC0Y"
      }
    },
    {
      "cell_type": "code",
      "source": [
        "for n in range(3):\n",
        "  print(\"Original: \", example[n].numpy())\n",
        "  print(\"Round-trip: \", \" \".join(vocab[encoded_example[n]]))\n",
        "  print()"
      ],
      "metadata": {
        "colab": {
          "base_uri": "https://localhost:8080/"
        },
        "id": "uKaEtu4JeFF5",
        "outputId": "e8a55cc8-37ae-42f7-9585-cb790ff17920"
      },
      "execution_count": 9,
      "outputs": [
        {
          "output_type": "stream",
          "name": "stdout",
          "text": [
            "Original:  b\"The film begins with Vincent Price about to begin his performance as a magician. However, mid-way through the very successful show, the police come and shut him down. It seems that his old boss had cheated him out of the tricks Price had created--even those he made on his own time at home. As a result, Price justifiably kills the evil man. The problem is that while the viewer understood why Price killed and most probably thought this was a GOOD thing, because Price was a bit mad, he just couldn't stop at one (sort of like eating Lay's Potato Chips).<br /><br />The film was full of very creative and spectacular magic tricks (including a huge circular saw and a crematorium for the shows), great plot twists as well as exciting action. One thing you can't say about this film is that it is dull. While it's also far from subtle, it is fun throughout, though and well worth a look.<br /><br />Had I never seen Vincent Price's version of HOUSE OF WAX, I probably would have liked THE MAD MAGICIAN a lot more and scored it an 8 or 9. That's because while THE MAD MAGICIAN is a wonderful film, it's highly reminiscent of the film that preceded it (HOUSE OF WAX). The bottom line is that since HOUSE OF WAX was so successful, the formula was re-hashed in the follow-up film. Both were made in 3-D, both have a plot where Price has every justification to kill but he can't stop once he's committed the first and both are great fun to watch. The biggest differences, and there are few, are that HOUSE OF WAX was in color and was more of a horror film and THE MAD MAGICIAN was definitely more of a mystery.<br /><br />My advice is to see this film AND HOUSE OF WAX (the Price version only). They are both terrific 1950s horror films.\"\n",
            "Round-trip:  the film begins with [UNK] [UNK] about to begin his performance as a [UNK] however [UNK] through the very [UNK] show the police come and [UNK] him down it seems that his old [UNK] had [UNK] him out of the [UNK] [UNK] had [UNK] those he made on his own time at home as a result [UNK] [UNK] [UNK] the evil man the problem is that while the viewer [UNK] why [UNK] killed and most probably thought this was a good thing because [UNK] was a bit [UNK] he just couldnt stop at one sort of like [UNK] [UNK] [UNK] [UNK] br the film was full of very [UNK] and [UNK] [UNK] [UNK] including a huge [UNK] saw and a [UNK] for the shows great plot [UNK] as well as [UNK] action one thing you cant say about this film is that it is dull while its also far from [UNK] it is fun throughout though and well worth a [UNK] br had i never seen [UNK] [UNK] version of house of [UNK] i probably would have liked the [UNK] [UNK] a lot more and [UNK] it an [UNK] or [UNK] thats because while the [UNK] [UNK] is a wonderful film its highly [UNK] of the film that [UNK] it house of [UNK] the [UNK] line is that since house of [UNK] was so [UNK] the [UNK] was [UNK] in the [UNK] film both were made in [UNK] both have a plot where [UNK] has every [UNK] to kill but he cant stop once hes [UNK] the first and both are great fun to watch the [UNK] [UNK] and there are few are that house of [UNK] was in [UNK] and was more of a horror film and the [UNK] [UNK] was definitely more of a [UNK] br my [UNK] is to see this film and house of [UNK] the [UNK] version only they are both [UNK] [UNK] horror films                                                                                                                                                                                                                                                                                                                                                                                                                                                                                                                                                                                                                                                                                                                                                                                                                                                                                                                                                                                                                                   \n",
            "\n",
            "Original:  b'The Secret Fury, in many ways a run-of-the-mill romantic suspense drama (directed by Mel Ferrer) boasts top-notch principals in Colbert and Ryan; it stays puzzling if not quite gripping until towards the end, when implausibility conquers suspension of disbelief -- as so often it does in this genre. But for some viewers the film\\'s highlight will be the portrayal of blowsy Leah by Vivian Vance -- the immortal Ethel Mertz on \"I Love Lucy.\" Oddly, Vance had very few film roles; her true home was Broadway, where (among other gigs) she understudied for Ethel Merman. Here she contributes a winning turn as a chambermaid suborned to play a minor part in a nefarious scheme; watch her half-heartedly trying to wave away the smoke when she\\'s puffing a furtive cigarette in the hotel\\'s linen-storage room -- a transgression for which she ultimately pays the supreme penalty.'\n",
            "Round-trip:  the secret [UNK] in many ways a [UNK] romantic suspense drama directed by [UNK] [UNK] [UNK] [UNK] [UNK] in [UNK] and [UNK] it [UNK] [UNK] if not quite [UNK] until towards the end when [UNK] [UNK] [UNK] of [UNK] as so often it does in this genre but for some viewers the films [UNK] will be the [UNK] of [UNK] [UNK] by [UNK] [UNK] the [UNK] [UNK] [UNK] on i love [UNK] [UNK] [UNK] had very few film roles her true home was [UNK] where among other [UNK] she [UNK] for [UNK] [UNK] here she [UNK] a [UNK] turn as a [UNK] [UNK] to play a [UNK] part in a [UNK] [UNK] watch her [UNK] trying to [UNK] away the [UNK] when shes [UNK] a [UNK] [UNK] in the [UNK] [UNK] room a [UNK] for which she [UNK] [UNK] the [UNK] [UNK]                                                                                                                                                                                                                                                                                                                                                                                                                                                                                                                                                                                                                                                                                                                                                                                                                                                                                                                                                                                                                                                                                                                                                                                                                     \n",
            "\n",
            "Original:  b\"I think the comments regarding the show being cheesy are a bit too exaggerated. When a person comes to watch a TV show, what does he look out for? It is to enjoy that he watches a show, unless he/she is a critic or a person who analyzes story. But most of us are not so and watch the shows to relax and enjoy. FULL HOUSE is an ideal show to watch after having a heavy day in the office/school. It makes you laugh and it is not just humor.<br /><br />Yes, the Tanner family is a perfect family, a perfectly hypothetical family. If any such family existed in real world, it would be a role model for us to follow. But this is a TV show, and not a real family, and there is nothing wrong in depicting a hypothetical family on television. The very fact that the show could run so long shows us that people enjoyed watching it, whatever be the comments later on.<br /><br />Another good point about the show is that any person of any age would not only enjoy watching it, but would take back a message however childish that message be. Those Jesse's talks with Michelle are extremely touching, if one doesn't think of it as childish.<br /><br />Overall I would say after watching every show of Full House, there is a contentment in your heart that is rarely present after many other shows.\"\n",
            "Round-trip:  i think the comments [UNK] the show being cheesy are a bit too [UNK] when a person comes to watch a tv show what does he look out for it is to enjoy that he [UNK] a show unless [UNK] is a [UNK] or a person who [UNK] story but most of us are not so and watch the shows to [UNK] and enjoy full house is an [UNK] show to watch after having a [UNK] day in the [UNK] it makes you laugh and it is not just [UNK] br yes the [UNK] family is a perfect family a perfectly [UNK] family if any such family [UNK] in real world it would be a role [UNK] for us to follow but this is a tv show and not a real family and there is nothing wrong in [UNK] a [UNK] family on television the very fact that the show could run so long shows us that people enjoyed watching it whatever be the comments later [UNK] br another good point about the show is that any person of any age would not only enjoy watching it but would take back a message however [UNK] that message be those [UNK] [UNK] with [UNK] are extremely [UNK] if one doesnt think of it as [UNK] br overall i would say after watching every show of full house there is a [UNK] in your heart that is [UNK] present after many other shows                                                                                                                                                                                                                                                                                                                                                                                                                                                                                                                                                                                                                                                                                                                                                                                                                                                                                                                                                                                                                                                                                                                  \n",
            "\n"
          ]
        }
      ]
    },
    {
      "cell_type": "markdown",
      "source": [
        "## Buat Model\n",
        "![image.png](data:image/png;base64,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)"
      ],
      "metadata": {
        "id": "e8lJKHQceHXs"
      }
    },
    {
      "cell_type": "markdown",
      "source": [
        "diagram model dapat dilihat pada gambar diatas\n",
        "\n",
        "1. Model ini dapat dibuat sebagai tf.keras.Sequential.\n",
        "\n",
        "2. Lapisan pertama adalah encoder, yang mengubah teks menjadi urutan indeks token.\n",
        "\n",
        "3. Setelah encoder adalah lapisan penyematan (embedding layer). Lapisan penyematan menyimpan satu vektor per kata. Saat dipanggil, ini mengubah rangkaian indeks kata menjadi rangkaian vektor. Vektor-vektor ini dapat dilatih. Setelah pelatihan (dengan data yang cukup), kata-kata dengan arti yang mirip sering kali memiliki vektor yang serupa. Pencarian indeks ini jauh lebih efisien daripada operasi setara dengan meneruskan vektor yang disandikan one-hot melalui lapisan tf.keras.layers.Dense.\n",
        "\n",
        "4. Jaringan saraf berulang (RNN) memproses masukan urutan dengan melakukan iterasi melalui elemen. RNN meneruskan keluaran dari satu langkah waktu ke masukannya pada langkah waktu berikutnya.\n",
        "\n",
        "  Pembungkus tf.keras.layers.Bidirection juga dapat digunakan dengan lapisan RNN. Ini menyebarkan masukan maju dan mundur melalui lapisan RNN dan kemudian menggabungkan keluaran akhir.\n",
        "\n",
        "  - Keuntungan utama RNN dua arah adalah sinyal dari awal masukan tidak perlu diproses sepanjang waktu untuk memengaruhi keluaran.\n",
        "\n",
        "  - Kerugian utama dari RNN dua arah adalah Anda tidak dapat melakukan streaming prediksi secara efisien saat kata-kata ditambahkan di akhir.\n",
        "\n",
        "5. Setelah RNN mengonversi urutan menjadi satu vektor, kedua lapisan tersebut.Dense melakukan beberapa pemrosesan akhir, dan mengonversi representasi vektor ini menjadi logit tunggal sebagai keluaran klasifikasi.\n",
        "\n",
        "Kode nya adalah sebagai berikut :"
      ],
      "metadata": {
        "id": "V0ald6xHeZzI"
      }
    },
    {
      "cell_type": "code",
      "source": [
        "model = tf.keras.Sequential([\n",
        "    encoder,\n",
        "    tf.keras.layers.Embedding(\n",
        "        input_dim=len(encoder.get_vocabulary()),\n",
        "        output_dim=64,\n",
        "        # Use masking to handle the variable sequence lengths\n",
        "        mask_zero=True),\n",
        "    tf.keras.layers.Bidirectional(tf.keras.layers.LSTM(64)),\n",
        "    tf.keras.layers.Dense(64, activation='relu'),\n",
        "    tf.keras.layers.Dense(1)\n",
        "])"
      ],
      "metadata": {
        "id": "k9aWQsV4erDO"
      },
      "execution_count": 10,
      "outputs": []
    },
    {
      "cell_type": "markdown",
      "source": [
        "Harap dicatat bahwa model sekuensial Keras digunakan di sini karena semua lapisan dalam model hanya memiliki masukan tunggal dan menghasilkan keluaran tunggal. Jika Anda ingin menggunakan lapisan RNN stateful, Anda mungkin ingin membangun model Anda dengan API fungsional Keras atau subkelas model sehingga Anda dapat mengambil dan menggunakan kembali status lapisan RNN. Untuk detailnya bisa dilihat pada Keras RNN guide\n",
        "\n",
        "Lapisan penyematan menggunakan masking (uses masking ) untuk menangani panjang urutan yang bervariasi. Semua lapisan setelah penyematan dukungan penyematan"
      ],
      "metadata": {
        "id": "QBVg-xAIeszn"
      }
    },
    {
      "cell_type": "code",
      "source": [
        "for layer in model.layers:\n",
        "    print(layer.supports_masking or layer in model.layers)"
      ],
      "metadata": {
        "colab": {
          "base_uri": "https://localhost:8080/"
        },
        "id": "n3RJI1xaet4W",
        "outputId": "7ec109f5-d816-49ce-df3e-f4dc81637404"
      },
      "execution_count": 11,
      "outputs": [
        {
          "output_type": "stream",
          "name": "stdout",
          "text": [
            "True\n",
            "True\n",
            "True\n",
            "True\n",
            "True\n"
          ]
        }
      ]
    },
    {
      "cell_type": "markdown",
      "source": [
        "Untuk memastikan bahwa ini berfungsi seperti yang diharapkan, evaluasi sebuah kalimat dua kali. Pertama, satu kalimat sehingga tidak ada bantalan (padding) untuk disamarkan:"
      ],
      "metadata": {
        "id": "ViM-jSubfCAN"
      }
    },
    {
      "cell_type": "code",
      "source": [
        "# predict on a sample text without padding.\n",
        "\n",
        "sample_text = ('The movie was cool. The animation and the graphics '\n",
        "               'were out of this world. I would recommend this movie.')\n",
        "predictions = model.predict(np.array([sample_text]))\n",
        "print(predictions[0])"
      ],
      "metadata": {
        "colab": {
          "base_uri": "https://localhost:8080/"
        },
        "id": "8mE1DPIImyYn",
        "outputId": "be7ffad9-2620-4ad2-eb4b-8ec0444e7081"
      },
      "execution_count": 12,
      "outputs": [
        {
          "output_type": "stream",
          "name": "stdout",
          "text": [
            "1/1 [==============================] - 2s 2s/step\n",
            "[-0.00620257]\n"
          ]
        }
      ]
    },
    {
      "cell_type": "markdown",
      "source": [
        "Sekarang, evaluasi lagi dalam batch dengan kalimat yang lebih panjang. Hasilnya harus sama:"
      ],
      "metadata": {
        "id": "MiPYx3yOfJ8B"
      }
    },
    {
      "cell_type": "code",
      "source": [
        "# predict on a sample text with padding\n",
        "\n",
        "padding = \"the \" * 2000\n",
        "predictions = model.predict(np.array([sample_text, padding]))\n",
        "print(predictions[0])"
      ],
      "metadata": {
        "colab": {
          "base_uri": "https://localhost:8080/"
        },
        "id": "1OgHWSRkfLJ3",
        "outputId": "1b577b66-bc3b-4d59-f874-4d09089d26e0"
      },
      "execution_count": 13,
      "outputs": [
        {
          "output_type": "stream",
          "name": "stdout",
          "text": [
            "1/1 [==============================] - 0s 201ms/step\n",
            "[-0.00620257]\n"
          ]
        }
      ]
    },
    {
      "cell_type": "markdown",
      "source": [
        "compile model Keras untuk mengonfigurasi proses pelatihan:"
      ],
      "metadata": {
        "id": "EpHTEVSZ6giv"
      }
    },
    {
      "cell_type": "code",
      "source": [
        "model.compile(loss=tf.keras.losses.BinaryCrossentropy(from_logits=True),\n",
        "              optimizer=tf.keras.optimizers.Adam(1e-4),\n",
        "              metrics=['accuracy'])"
      ],
      "metadata": {
        "id": "Ua2rJ6mn6fj2"
      },
      "execution_count": 14,
      "outputs": []
    },
    {
      "cell_type": "markdown",
      "source": [
        "## Train Model"
      ],
      "metadata": {
        "id": "kkRvzGo06jZ4"
      }
    },
    {
      "cell_type": "code",
      "source": [
        "history = model.fit(train_dataset, epochs=5, validation_data=test_dataset, validation_steps=30)"
      ],
      "metadata": {
        "colab": {
          "base_uri": "https://localhost:8080/"
        },
        "id": "NqupJWk96kJw",
        "outputId": "8adb0a50-0409-4464-bf1f-d546e59d84d7"
      },
      "execution_count": 19,
      "outputs": [
        {
          "output_type": "stream",
          "name": "stdout",
          "text": [
            "Epoch 1/5\n",
            "391/391 [==============================] - 222s 568ms/step - loss: 0.4316 - accuracy: 0.7922 - val_loss: 0.3752 - val_accuracy: 0.8302\n",
            "Epoch 2/5\n",
            "391/391 [==============================] - 222s 569ms/step - loss: 0.3510 - accuracy: 0.8463 - val_loss: 0.3524 - val_accuracy: 0.8313\n",
            "Epoch 3/5\n",
            "391/391 [==============================] - 224s 572ms/step - loss: 0.3288 - accuracy: 0.8574 - val_loss: 0.3394 - val_accuracy: 0.8594\n",
            "Epoch 4/5\n",
            "391/391 [==============================] - 224s 572ms/step - loss: 0.3188 - accuracy: 0.8625 - val_loss: 0.3275 - val_accuracy: 0.8536\n",
            "Epoch 5/5\n",
            "391/391 [==============================] - 224s 573ms/step - loss: 0.3086 - accuracy: 0.8681 - val_loss: 0.3413 - val_accuracy: 0.8599\n"
          ]
        }
      ]
    },
    {
      "cell_type": "code",
      "source": [
        "test_loss, test_acc = model.evaluate(test_dataset)\n",
        "\n",
        "print('Test Loss:', test_loss)\n",
        "print('Test Accuracy:', test_acc)"
      ],
      "metadata": {
        "colab": {
          "base_uri": "https://localhost:8080/"
        },
        "id": "j0onuraC-n1x",
        "outputId": "05f81330-907e-4148-fca3-e0d74d7ab78e"
      },
      "execution_count": 20,
      "outputs": [
        {
          "output_type": "stream",
          "name": "stdout",
          "text": [
            "391/391 [==============================] - 64s 165ms/step - loss: 0.3410 - accuracy: 0.8624\n",
            "Test Loss: 0.34104958176612854\n",
            "Test Accuracy: 0.8624399900436401\n"
          ]
        }
      ]
    },
    {
      "cell_type": "code",
      "source": [
        "plt.figure(figsize=(16, 8))\n",
        "plt.subplot(1, 2, 1)\n",
        "plot_graphs(history, 'accuracy')\n",
        "plt.ylim(None, 1)\n",
        "plt.subplot(1, 2, 2)\n",
        "plot_graphs(history, 'loss')\n",
        "plt.ylim(0, None)"
      ],
      "metadata": {
        "colab": {
          "base_uri": "https://localhost:8080/",
          "height": 366
        },
        "id": "HBlbiqNw_U9O",
        "outputId": "cfd02a78-4bf6-4bea-fb67-d3191d0cb589"
      },
      "execution_count": 21,
      "outputs": [
        {
          "output_type": "execute_result",
          "data": {
            "text/plain": [
              "(0.0, 0.437798498570919)"
            ]
          },
          "metadata": {},
          "execution_count": 21
        },
        {
          "output_type": "display_data",
          "data": {
            "text/plain": [
              "<Figure size 1600x800 with 2 Axes>"
            ],
            "image/png": "[encoded data removed]"
          },
          "metadata": {}
        }
      ]
    },
    {
      "cell_type": "markdown",
      "source": [
        "Jalankan prediksi pada kalimat baru:\n",
        "\n",
        "Jika prediksi >= 0,0 berarti positif, jika tidak maka negatif."
      ],
      "metadata": {
        "id": "N8PaOJIb_cA8"
      }
    },
    {
      "cell_type": "code",
      "source": [
        "sample_text = ('The movie was cool. The animation and the graphics '\n",
        "               'were out of this world. I would recommend this movie.')\n",
        "predictions = model.predict(np.array([sample_text]))"
      ],
      "metadata": {
        "colab": {
          "base_uri": "https://localhost:8080/"
        },
        "id": "c-S_oeCv_c7U",
        "outputId": "937ac6f2-39cf-4c1c-b843-0264422630d3"
      },
      "execution_count": 22,
      "outputs": [
        {
          "output_type": "stream",
          "name": "stdout",
          "text": [
            "1/1 [==============================] - 0s 28ms/step\n"
          ]
        }
      ]
    },
    {
      "cell_type": "markdown",
      "source": [
        "## Stack two or more LSTM layers\n",
        "Lapisan berulang Keras memiliki dua mode yang tersedia yang dikontrol oleh argumen konstruktor return_sequences :\n",
        "\n",
        "- Jika False, ia hanya mengembalikan keluaran terakhir untuk setiap urutan masukan (bentuk tensor 2D (batch_size, output_features)). Ini adalah default yang digunakan pada model sebelumnya.\n",
        "\n",
        "- Jika True, Sequence lengkap output berturut-turut untuk setiap langkah waktu dikembalikan (bentuk tensor 3D (ukuran_batch, langkah waktu, fitur_output)).\n",
        "\n",
        "Berikut adalah alur informasi dengan return_sequences=True:\n",
        "\n",
        "![image.png](data:image/png;base64,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)"
      ],
      "metadata": {
        "id": "jwiOAS7uRIc-"
      }
    },
    {
      "cell_type": "markdown",
      "source": [
        "Hal yang menarik dari penggunaan RNN dengan return_sequences=True adalah outputnya masih memiliki 3 axis, sama seperti inputnya, sehingga bisa diteruskan ke layer RNN lain, seperti ini:"
      ],
      "metadata": {
        "id": "QOMXw6ihRVtU"
      }
    },
    {
      "cell_type": "code",
      "source": [
        "model = tf.keras.Sequential([\n",
        "    encoder,\n",
        "    tf.keras.layers.Embedding(len(encoder.get_vocabulary()), 64, mask_zero=True),\n",
        "    tf.keras.layers.Bidirectional(tf.keras.layers.LSTM(64, return_sequences=True)),\n",
        "    tf.keras.layers.Bidirectional(tf.keras.layers.LSTM(32)),\n",
        "    tf.keras.layers.Dense(64, activation='relu'),\n",
        "    tf.keras.layers.Dropout(0.5),\n",
        "    tf.keras.layers.Dense(1)\n",
        "])"
      ],
      "metadata": {
        "id": "qbiDnHJsRVL1"
      },
      "execution_count": 23,
      "outputs": []
    },
    {
      "cell_type": "code",
      "source": [
        "model.compile(loss=tf.keras.losses.BinaryCrossentropy(from_logits=True),\n",
        "optimizer=tf.keras.optimizers.Adam(1e-4), metrics=['accuracy'])"
      ],
      "metadata": {
        "id": "Ps1GGH-ARhpk"
      },
      "execution_count": 29,
      "outputs": []
    },
    {
      "cell_type": "code",
      "source": [
        "history = model.fit(train_dataset, epochs=5, validation_data=test_dataset, validation_steps=30)"
      ],
      "metadata": {
        "colab": {
          "base_uri": "https://localhost:8080/"
        },
        "id": "OojDpl6QRmtw",
        "outputId": "af3e54ce-5f36-4748-c3ef-52d668620fea"
      },
      "execution_count": 30,
      "outputs": [
        {
          "output_type": "stream",
          "name": "stdout",
          "text": [
            "Epoch 1/5\n",
            "391/391 [==============================] - 445s 1s/step - loss: 0.6099 - accuracy: 0.6176 - val_loss: 0.4406 - val_accuracy: 0.8068\n",
            "Epoch 2/5\n",
            "391/391 [==============================] - 425s 1s/step - loss: 0.4034 - accuracy: 0.8253 - val_loss: 0.3859 - val_accuracy: 0.8125\n",
            "Epoch 3/5\n",
            "391/391 [==============================] - 428s 1s/step - loss: 0.3462 - accuracy: 0.8534 - val_loss: 0.3351 - val_accuracy: 0.8578\n",
            "Epoch 4/5\n",
            "391/391 [==============================] - 428s 1s/step - loss: 0.3304 - accuracy: 0.8606 - val_loss: 0.3277 - val_accuracy: 0.8542\n",
            "Epoch 5/5\n",
            "391/391 [==============================] - 426s 1s/step - loss: 0.3184 - accuracy: 0.8648 - val_loss: 0.3292 - val_accuracy: 0.8583\n"
          ]
        }
      ]
    },
    {
      "cell_type": "code",
      "source": [
        "test_loss, test_acc = model.evaluate(test_dataset)\n",
        "\n",
        "print('Test Loss:', test_loss)\n",
        "print('Test Accuracy:', test_acc)"
      ],
      "metadata": {
        "id": "U5U5h9zqRqph",
        "colab": {
          "base_uri": "https://localhost:8080/"
        },
        "outputId": "bfc9c462-fca7-4b29-cf10-af1451ece4b0"
      },
      "execution_count": 31,
      "outputs": [
        {
          "output_type": "stream",
          "name": "stdout",
          "text": [
            "391/391 [==============================] - 116s 298ms/step - loss: 0.3241 - accuracy: 0.8647\n",
            "Test Loss: 0.3240583837032318\n",
            "Test Accuracy: 0.8646799921989441\n"
          ]
        }
      ]
    },
    {
      "cell_type": "code",
      "source": [
        "# predict on a sample text without padding.\n",
        "\n",
        "sample_text = ('The movie was not good. The animation and the graphics '\n",
        "               'were terrible. I would not recommend this movie.')\n",
        "predictions = model.predict(np.array([sample_text]))\n",
        "print(predictions)"
      ],
      "metadata": {
        "id": "dpAF1l9tSHWi",
        "colab": {
          "base_uri": "https://localhost:8080/"
        },
        "outputId": "f7f16be4-2e7d-4912-9b69-99100f214730"
      },
      "execution_count": 32,
      "outputs": [
        {
          "output_type": "stream",
          "name": "stdout",
          "text": [
            "1/1 [==============================] - 6s 6s/step\n",
            "[[-1.5545516]]\n"
          ]
        }
      ]
    },
    {
      "cell_type": "code",
      "source": [
        "plt.figure(figsize=(16, 6))\n",
        "plt.subplot(1, 2, 1)\n",
        "plot_graphs(history, 'accuracy')\n",
        "plt.subplot(1, 2, 2)\n",
        "plot_graphs(history, 'loss')"
      ],
      "metadata": {
        "id": "bkfvgQHcSIjJ",
        "colab": {
          "base_uri": "https://localhost:8080/",
          "height": 273
        },
        "outputId": "732c39ca-cfd0-422e-eaa8-ce319e2bae82"
      },
      "execution_count": 33,
      "outputs": [
        {
          "output_type": "display_data",
          "data": {
            "text/plain": [
              "<Figure size 1600x600 with 2 Axes>"
            ],
            "image/png": "[encoded data removed]"
          },
          "metadata": {}
        }
      ]
    },
    {
      "cell_type": "markdown",
      "source": [
        "## Kode di atas hanya bisa dijalankan dengan TPU, kode berikut bisa dijalankan dengan CPU biasa"
      ],
      "metadata": {
        "id": "EKyELS3FQY3F"
      }
    },
    {
      "cell_type": "code",
      "source": [
        "# Train the model\n",
        "history = model.fit(train_dataset, epochs=1, validation_data=test_dataset, validation_steps=30)"
      ],
      "metadata": {
        "colab": {
          "base_uri": "https://localhost:8080/"
        },
        "id": "L5PbPBitMS2w",
        "outputId": "0b3fe96a-6017-4e17-e402-978dab9baf7c"
      },
      "execution_count": null,
      "outputs": [
        {
          "output_type": "stream",
          "name": "stdout",
          "text": [
            "\u001b[1m391/391\u001b[0m \u001b[32m━━━━━━━━━━━━━━━━━━━━\u001b[0m\u001b[37m\u001b[0m \u001b[1m788s\u001b[0m 2s/step - accuracy: 0.8628 - loss: 0.3169 - val_accuracy: 0.8557 - val_loss: 0.3242\n"
          ]
        }
      ]
    },
    {
      "cell_type": "code",
      "source": [
        "# Function to make predictions\n",
        "def predict_sentiment(text):\n",
        "    # Convert the text to a tensor\n",
        "    text_tensor = tf.constant([text])\n",
        "\n",
        "    # Make prediction\n",
        "    prediction = model.predict(text_tensor)\n",
        "\n",
        "    # Process prediction\n",
        "    sentiment = \"Positive\" if prediction[0][0] > 0 else \"Negative\"\n",
        "    confidence = tf.nn.sigmoid(prediction[0][0]).numpy()\n",
        "\n",
        "    return sentiment, confidence"
      ],
      "metadata": {
        "id": "i_yt4-DuMVUY"
      },
      "execution_count": null,
      "outputs": []
    },
    {
      "cell_type": "code",
      "source": [
        "# Test the prediction\n",
        "sample_text = ('The movie was cool. The animation and the graphics '\n",
        "               'were out of this world. I would recommend this movie.')\n",
        "\n",
        "sentiment, confidence = predict_sentiment(sample_text)\n",
        "print(f\"Text: {sample_text}\")\n",
        "print(f\"Sentiment: {sentiment}\")\n",
        "print(f\"Confidence: {confidence:.2f}\")"
      ],
      "metadata": {
        "colab": {
          "base_uri": "https://localhost:8080/"
        },
        "id": "o-BmDefMMYYw",
        "outputId": "894a01c3-66e9-4bd8-ee13-f1906bf3dcc4"
      },
      "execution_count": null,
      "outputs": [
        {
          "output_type": "stream",
          "name": "stdout",
          "text": [
            "\u001b[1m1/1\u001b[0m \u001b[32m━━━━━━━━━━━━━━━━━━━━\u001b[0m\u001b[37m\u001b[0m \u001b[1m20s\u001b[0m 20s/step\n",
            "Text: The movie was cool. The animation and the graphics were out of this world. I would recommend this movie.\n",
            "Sentiment: Positive\n",
            "Confidence: 0.76\n"
          ]
        }
      ]
    },
    {
      "cell_type": "markdown",
      "source": [
        "# Praktikum 2 - Generator Teks dengan RNN\n",
        "Praktikum ini mendemonstrasikan cara melakukan genearsi text menggunakan RNN. Dataset yang digunkan adalah dataset Shakespeare's writing from Andrej Karpathy's The Unreasonable Effectiveness of Recurrent Neural Networks. Jika diberikan urutan karakter dari data ini (\"Shakespear\"), latih model untuk memprediksi karakter berikutnya dalam urutan (\"e\"). Urutan teks yang lebih panjang dapat dihasilkan dengan memanggil model berulang kali.\n",
        "\n",
        "Note: Enable GPU acceleration to execute this notebook faster. In Colab: Runtime > Change runtime type > Hardware accelerator > GPU.\n",
        "\n",
        "Tutorial ini menggunakan tf.keras dan eager execution. Berikut adalah contoh output ketika model dalam tutorial ini dilatih selama 30 epoch, dan dimulai dengan prompt \"Q\":"
      ],
      "metadata": {
        "id": "uDO3o4UQQ8dc"
      }
    },
    {
      "cell_type": "markdown",
      "source": [
        "\n",
        "\n",
        "```\n",
        "QUEENE:\n",
        "I had thought thou hadst a Roman; for the oracle,\n",
        "Thus by All bids the man against the word,\n",
        "Which are so weak of care, by old care done;\n",
        "Your children were in your holy love,\n",
        "And the precipitation through the bleeding throne.\n",
        "\n",
        "BISHOP OF ELY:\n",
        "Marry, and will, my lord, to weep in such a one were prettiest;\n",
        "Yet now I was adopted heir\n",
        "Of the world's lamentable day,\n",
        "To watch the next way with his father with his face?\n",
        "\n",
        "ESCALUS:\n",
        "The cause why then we are all resolved more sons.\n",
        "\n",
        "VOLUMNIA:\n",
        "O, no, no, no, no, no, no, no, no, no, no, no, no, no, no, no, no, no, no, no, no, it is no sin it should be dead,\n",
        "And love and pale as any will to that word.\n",
        "\n",
        "QUEEN ELIZABETH:\n",
        "But how long have I heard the soul for this world,\n",
        "And show his hands of life be proved to stand.\n",
        "\n",
        "PETRUCHIO:\n",
        "I say he look'd on, if I must be content\n",
        "To stay him from the fatal of our country's bliss.\n",
        "His lordship pluck'd from this sentence then for prey,\n",
        "And then let us twain, being the moon,\n",
        "were she such a case as fills m\n",
        "```\n",
        "\n",
        "Meskipun beberapa kalimat memiliki tata bahasa, sebagian besar tidak masuk akal. Model belum mempelajari arti kata-kata, namun anggap saja:\n",
        "\n",
        "-Modelnya berbasis karakter. Saat pelatihan dimulai, model tidak mengetahui cara mengeja kata dalam bahasa Inggris, atau bahkan kata-kata tersebut merupakan satuan teks.\n",
        "\n",
        "-Struktur keluarannya menyerupai sandiwara—blok teks umumnya dimulai dengan nama pembicara, dengan huruf kapital semua mirip dengan kumpulan data.\n",
        "\n",
        "-Seperti yang ditunjukkan di bawah, model dilatih pada kumpulan teks kecil (masing-masing 100 karakter), dan masih mampu menghasilkan rangkaian teks yang lebih panjang dengan struktur yang koheren."
      ],
      "metadata": {
        "id": "erdIeiOU5-Nr"
      }
    },
    {
      "cell_type": "markdown",
      "source": [
        "## Setup\n",
        "**Import TensorFlow **"
      ],
      "metadata": {
        "id": "THW5axm36DYp"
      }
    },
    {
      "cell_type": "code",
      "source": [
        "import tensorflow as tf\n",
        "import numpy as np\n",
        "import os\n",
        "import time"
      ],
      "metadata": {
        "id": "mlQwOjfG6Kor"
      },
      "execution_count": 34,
      "outputs": []
    },
    {
      "cell_type": "markdown",
      "source": [
        "Download Dataset Shakespeare\n",
        "Sesuaikan dengan lokasi data yang Anda punya."
      ],
      "metadata": {
        "id": "2kq3Ykwd6PiB"
      }
    },
    {
      "cell_type": "code",
      "source": [
        "path_to_file = tf.keras.utils.get_file('shakespeare.txt', 'https://storage.googleapis.com/download.tensorflow.org/data/shakespeare.txt')"
      ],
      "metadata": {
        "colab": {
          "base_uri": "https://localhost:8080/"
        },
        "id": "ehhL5rWC6QVh",
        "outputId": "2d0e684c-92b1-4599-ed81-cdb376918da0"
      },
      "execution_count": 35,
      "outputs": [
        {
          "output_type": "stream",
          "name": "stdout",
          "text": [
            "Downloading data from https://storage.googleapis.com/download.tensorflow.org/data/shakespeare.txt\n",
            "1115394/1115394 [==============================] - 0s 0us/step\n"
          ]
        }
      ]
    },
    {
      "cell_type": "markdown",
      "source": [
        "Load Data"
      ],
      "metadata": {
        "id": "IU7ifPsf6W54"
      }
    },
    {
      "cell_type": "code",
      "source": [
        "# Read, then decode for py2 compat.\n",
        "text = open(path_to_file, 'rb').read().decode(encoding='utf-8')\n",
        "# length of text is the number of characters in it\n",
        "print(f'Length of text: {len(text)} characters')"
      ],
      "metadata": {
        "colab": {
          "base_uri": "https://localhost:8080/"
        },
        "id": "KSjcU0uW6WqS",
        "outputId": "ec39639a-d316-4b3c-b0af-bf78bbb83fc7"
      },
      "execution_count": 36,
      "outputs": [
        {
          "output_type": "stream",
          "name": "stdout",
          "text": [
            "Length of text: 1115394 characters\n"
          ]
        }
      ]
    },
    {
      "cell_type": "code",
      "source": [
        "# Take a look at the first 250 characters in text\n",
        "print(text[:250])"
      ],
      "metadata": {
        "colab": {
          "base_uri": "https://localhost:8080/"
        },
        "id": "N8qVthy-6ZZp",
        "outputId": "fec79248-82e3-4fa0-ac37-be08fe110132"
      },
      "execution_count": 37,
      "outputs": [
        {
          "output_type": "stream",
          "name": "stdout",
          "text": [
            "First Citizen:\n",
            "Before we proceed any further, hear me speak.\n",
            "\n",
            "All:\n",
            "Speak, speak.\n",
            "\n",
            "First Citizen:\n",
            "You are all resolved rather to die than to famish?\n",
            "\n",
            "All:\n",
            "Resolved. resolved.\n",
            "\n",
            "First Citizen:\n",
            "First, you know Caius Marcius is chief enemy to the people.\n",
            "\n"
          ]
        }
      ]
    },
    {
      "cell_type": "code",
      "source": [
        "# The unique characters in the file\n",
        "vocab = sorted(set(text))\n",
        "print(f'{len(vocab)} unique characters')"
      ],
      "metadata": {
        "colab": {
          "base_uri": "https://localhost:8080/"
        },
        "id": "gMgxdUYd6alx",
        "outputId": "f0b57ce9-a137-4708-c775-da2c90db0f1d"
      },
      "execution_count": 38,
      "outputs": [
        {
          "output_type": "stream",
          "name": "stdout",
          "text": [
            "65 unique characters\n"
          ]
        }
      ]
    },
    {
      "cell_type": "markdown",
      "source": [
        "## Olah Teks\n",
        "Vectorize Teks\n",
        "Sebelum training, Anda perlu mengonversi string menjadi representasi numerik. tf.keras.layers.StringLookup dapat mengubah setiap karakter menjadi ID numerik. Caranya adalah teks akan dipecah menjadi token terlebih dahulu."
      ],
      "metadata": {
        "id": "5mPrkz2m6ZJX"
      }
    },
    {
      "cell_type": "code",
      "source": [
        "example_texts = ['abcdefg', 'xyz']\n",
        "chars = tf.strings.unicode_split(example_texts, input_encoding='UTF-8')\n",
        "chars"
      ],
      "metadata": {
        "colab": {
          "base_uri": "https://localhost:8080/"
        },
        "id": "A8Qt-jdN6exP",
        "outputId": "f5eb2cbf-c07b-4d15-f330-a66e2133e1ef"
      },
      "execution_count": 39,
      "outputs": [
        {
          "output_type": "execute_result",
          "data": {
            "text/plain": [
              "<tf.RaggedTensor [[b'a', b'b', b'c', b'd', b'e', b'f', b'g'], [b'x', b'y', b'z']]>"
            ]
          },
          "metadata": {},
          "execution_count": 39
        }
      ]
    },
    {
      "cell_type": "markdown",
      "source": [
        "sekarang buat tf.keras.layers.StringLookup layer:"
      ],
      "metadata": {
        "id": "nw9yRxvO6pW9"
      }
    },
    {
      "cell_type": "code",
      "source": [
        "ids_from_chars = tf.keras.layers.StringLookup(\n",
        "vocabulary=list(vocab), mask_token=None)"
      ],
      "metadata": {
        "id": "K5Oiyeng6qld"
      },
      "execution_count": 40,
      "outputs": []
    },
    {
      "cell_type": "markdown",
      "source": [
        "perintah diatas mengconvert token menjadi id"
      ],
      "metadata": {
        "id": "XCYyE-yj6uFD"
      }
    },
    {
      "cell_type": "code",
      "source": [
        "ids = ids_from_chars(chars)\n",
        "ids"
      ],
      "metadata": {
        "colab": {
          "base_uri": "https://localhost:8080/"
        },
        "id": "ZNnxtzJP6u6s",
        "outputId": "a54605f6-eb52-4133-f49c-6de276f869a8"
      },
      "execution_count": 41,
      "outputs": [
        {
          "output_type": "execute_result",
          "data": {
            "text/plain": [
              "<tf.RaggedTensor [[40, 41, 42, 43, 44, 45, 46], [63, 64, 65]]>"
            ]
          },
          "metadata": {},
          "execution_count": 41
        }
      ]
    },
    {
      "cell_type": "markdown",
      "source": [
        "Karena tujuan tutorial ini adalah untuk menghasilkan teks, penting juga untuk membalikkan representasi ini. Untuk ini Anda dapat menggunakan kode tf.keras.layers.StringLookup(..., invert=True).\n",
        "\n",
        "Catatan: pada kode ini, daripada meneruskan kosakata asli yang dihasilkan dengan diurutkan(set(teks)) gunakan metode get_vocabulary() dari tf.keras.layers.StringLookup sehingga token [UNK] disetel dengan cara yang sama."
      ],
      "metadata": {
        "id": "vP7wY-z360g2"
      }
    },
    {
      "cell_type": "code",
      "source": [
        "chars_from_ids = tf.keras.layers.StringLookup(\n",
        "    vocabulary=ids_from_chars.get_vocabulary(), invert=True, mask_token=None)"
      ],
      "metadata": {
        "id": "Fe_SdA1w61es"
      },
      "execution_count": 42,
      "outputs": []
    },
    {
      "cell_type": "markdown",
      "source": [
        "Lapisan ini mengconvert kembali karakter dari vektor ID, dan mengembalikannya sebagai karakter tf.RaggedTensor:"
      ],
      "metadata": {
        "id": "VgzptjuH63cd"
      }
    },
    {
      "cell_type": "code",
      "source": [
        "chars = chars_from_ids(ids)\n",
        "chars"
      ],
      "metadata": {
        "colab": {
          "base_uri": "https://localhost:8080/"
        },
        "id": "lK1Qyfck64Vv",
        "outputId": "77376dcc-b022-4405-fe20-a70c4f209722"
      },
      "execution_count": 43,
      "outputs": [
        {
          "output_type": "execute_result",
          "data": {
            "text/plain": [
              "<tf.RaggedTensor [[b'a', b'b', b'c', b'd', b'e', b'f', b'g'], [b'x', b'y', b'z']]>"
            ]
          },
          "metadata": {},
          "execution_count": 43
        }
      ]
    },
    {
      "cell_type": "markdown",
      "source": [
        "Anda dapat menggunakan tf.strings.reduce_join untuk menggabungkan kembali karakter menjadi string."
      ],
      "metadata": {
        "id": "Yq26vqIZ69sy"
      }
    },
    {
      "cell_type": "code",
      "source": [
        "tf.strings.reduce_join(chars, axis=-1).numpy()"
      ],
      "metadata": {
        "colab": {
          "base_uri": "https://localhost:8080/"
        },
        "id": "ua2NOqgJ67uH",
        "outputId": "32c90d15-072f-41f7-f4a8-1294f2fe86c1"
      },
      "execution_count": 44,
      "outputs": [
        {
          "output_type": "execute_result",
          "data": {
            "text/plain": [
              "array([b'abcdefg', b'xyz'], dtype=object)"
            ]
          },
          "metadata": {},
          "execution_count": 44
        }
      ]
    },
    {
      "cell_type": "code",
      "source": [
        "def text_from_ids(ids):\n",
        "    return tf.strings.reduce_join(chars_from_ids(ids), axis=-1)"
      ],
      "metadata": {
        "id": "pWePdSeH7DTH"
      },
      "execution_count": 46,
      "outputs": []
    },
    {
      "cell_type": "markdown",
      "source": [
        "Prediksi\n",
        "\n",
        "Diberikan sebuah karakter, atau serangkaian karakter, karakter apa yang paling mungkin berikutnya? Ini adalah tugas yang harus Anda latih agar model dapat melakukannya. Masukan ke model akan berupa urutan karakter, dan Anda melatih model untuk memprediksi keluaran berupa karakter berikut pada setiap langkah waktu. Karena RNN mempertahankan keadaan internal yang bergantung pada elemen yang terlihat sebelumnya, mengingat semua karakter dihitung hingga saat ini, karakter apa selanjutnya?\n",
        "\n",
        "Membuat Trianing Set dan Target\n",
        "\n",
        "Selanjutnya bagilah teks menjadi contoh sequence. Setiap masukan sequence akan berisi karakter seq_length dari teks. Untuk setiap masukan sequence, target prediksi berisi teks dengan panjang yang sama, hanya digeser satu karakter ke kanan. Jadi, bagi teks menjadi beberapa bagian seq_length+1. Misalnya, seq_length adalah 4 dan teks kita adalah \"Hello\". Urutan masukannya adalah \"Hell\", dan urutan targetnya adalah \"ello\". Untuk melakukan ini, pertama-tama gunakan fungsi tf.data.Dataset.from_tensor_slices untuk mengonversi vektor teks menjadi aliran indeks karakter."
      ],
      "metadata": {
        "id": "y4MRoOYY7NzE"
      }
    },
    {
      "cell_type": "code",
      "source": [
        "all_ids = ids_from_chars(tf.strings.unicode_split(text, 'UTF-8'))\n",
        "all_ids"
      ],
      "metadata": {
        "colab": {
          "base_uri": "https://localhost:8080/"
        },
        "id": "zz0Wq8Ys7SGo",
        "outputId": "4faa834b-7c9e-4816-f87a-5b537d8a1c55"
      },
      "execution_count": 48,
      "outputs": [
        {
          "output_type": "execute_result",
          "data": {
            "text/plain": [
              "<tf.Tensor: shape=(1115394,), dtype=int64, numpy=array([19, 48, 57, ..., 46,  9,  1])>"
            ]
          },
          "metadata": {},
          "execution_count": 48
        }
      ]
    },
    {
      "cell_type": "code",
      "source": [
        "ids_dataset = tf.data.Dataset.from_tensor_slices(all_ids)"
      ],
      "metadata": {
        "id": "AMGLnpZQ7VaM"
      },
      "execution_count": 49,
      "outputs": []
    },
    {
      "cell_type": "code",
      "source": [
        "for ids in ids_dataset.take(10):\n",
        "    print(chars_from_ids(ids).numpy().decode('utf-8'))"
      ],
      "metadata": {
        "colab": {
          "base_uri": "https://localhost:8080/"
        },
        "id": "TXLQw0Yb7XxG",
        "outputId": "287b2efd-bf45-4399-8374-59a2ede4535e"
      },
      "execution_count": 50,
      "outputs": [
        {
          "output_type": "stream",
          "name": "stdout",
          "text": [
            "F\n",
            "i\n",
            "r\n",
            "s\n",
            "t\n",
            " \n",
            "C\n",
            "i\n",
            "t\n",
            "i\n"
          ]
        }
      ]
    },
    {
      "cell_type": "code",
      "source": [
        "seq_length = 100"
      ],
      "metadata": {
        "id": "hKTr0wHj7dXC"
      },
      "execution_count": 51,
      "outputs": []
    },
    {
      "cell_type": "markdown",
      "source": [
        "Metode batch memungkinkan Anda dengan mudah mengonversi karakter individual ini menjadi urutan ukuran yang diinginkan."
      ],
      "metadata": {
        "id": "3Y3iIAlo7hiK"
      }
    },
    {
      "cell_type": "code",
      "source": [
        "sequences = ids_dataset.batch(seq_length+1, drop_remainder=True)\n",
        "\n",
        "for seq in sequences.take(1):\n",
        "  print(chars_from_ids(seq))"
      ],
      "metadata": {
        "colab": {
          "base_uri": "https://localhost:8080/"
        },
        "id": "ydwpzhPI7ipb",
        "outputId": "7d314871-b909-47dd-b521-8f77df271d57"
      },
      "execution_count": 52,
      "outputs": [
        {
          "output_type": "stream",
          "name": "stdout",
          "text": [
            "tf.Tensor(\n",
            "[b'F' b'i' b'r' b's' b't' b' ' b'C' b'i' b't' b'i' b'z' b'e' b'n' b':'\n",
            " b'\\n' b'B' b'e' b'f' b'o' b'r' b'e' b' ' b'w' b'e' b' ' b'p' b'r' b'o'\n",
            " b'c' b'e' b'e' b'd' b' ' b'a' b'n' b'y' b' ' b'f' b'u' b'r' b't' b'h'\n",
            " b'e' b'r' b',' b' ' b'h' b'e' b'a' b'r' b' ' b'm' b'e' b' ' b's' b'p'\n",
            " b'e' b'a' b'k' b'.' b'\\n' b'\\n' b'A' b'l' b'l' b':' b'\\n' b'S' b'p' b'e'\n",
            " b'a' b'k' b',' b' ' b's' b'p' b'e' b'a' b'k' b'.' b'\\n' b'\\n' b'F' b'i'\n",
            " b'r' b's' b't' b' ' b'C' b'i' b't' b'i' b'z' b'e' b'n' b':' b'\\n' b'Y'\n",
            " b'o' b'u' b' '], shape=(101,), dtype=string)\n"
          ]
        }
      ]
    },
    {
      "cell_type": "markdown",
      "source": [
        "akan lebih mudah untuk melihat apa yang dilakukan jika Anda menggabungkan token kembali menjadi string:"
      ],
      "metadata": {
        "id": "Ryu4CNOe7oaz"
      }
    },
    {
      "cell_type": "code",
      "source": [
        "for seq in sequences.take(5):\n",
        "    print(text_from_ids(seq).numpy())"
      ],
      "metadata": {
        "colab": {
          "base_uri": "https://localhost:8080/"
        },
        "id": "BtcHUkFa7pdh",
        "outputId": "77c9b99f-3942-4887-aa29-f7e0643c2696"
      },
      "execution_count": 53,
      "outputs": [
        {
          "output_type": "stream",
          "name": "stdout",
          "text": [
            "b'First Citizen:\\nBefore we proceed any further, hear me speak.\\n\\nAll:\\nSpeak, speak.\\n\\nFirst Citizen:\\nYou '\n",
            "b'are all resolved rather to die than to famish?\\n\\nAll:\\nResolved. resolved.\\n\\nFirst Citizen:\\nFirst, you k'\n",
            "b\"now Caius Marcius is chief enemy to the people.\\n\\nAll:\\nWe know't, we know't.\\n\\nFirst Citizen:\\nLet us ki\"\n",
            "b\"ll him, and we'll have corn at our own price.\\nIs't a verdict?\\n\\nAll:\\nNo more talking on't; let it be d\"\n",
            "b'one: away, away!\\n\\nSecond Citizen:\\nOne word, good citizens.\\n\\nFirst Citizen:\\nWe are accounted poor citi'\n"
          ]
        }
      ]
    },
    {
      "cell_type": "markdown",
      "source": [
        "Untuk pelatihan, Anda memerlukan kumpulan data pasangan (input, label). Dimana input dan label merupakan urutan. Pada setiap langkah waktu, inputnya adalah karakter saat ini dan labelnya adalah karakter berikutnya. Berikut adalah fungsi yang mengambil urutan sebagai masukan, menduplikasi, dan menggesernya untuk menyelaraskan masukan dan label untuk setiap langkah waktu:"
      ],
      "metadata": {
        "id": "lRM2tCfF7x5h"
      }
    },
    {
      "cell_type": "code",
      "source": [
        "def split_input_target(sequence):\n",
        "    input_text = sequence[:-1]\n",
        "    target_text = sequence[1:]\n",
        "    return input_text, target_text"
      ],
      "metadata": {
        "id": "uZidjue17zTd"
      },
      "execution_count": 54,
      "outputs": []
    },
    {
      "cell_type": "code",
      "source": [
        "split_input_target(list(\"Tensorflow\"))"
      ],
      "metadata": {
        "colab": {
          "base_uri": "https://localhost:8080/"
        },
        "id": "9g6ZVKqE72UB",
        "outputId": "838e0a43-ed7b-4196-984a-a4a514440fe5"
      },
      "execution_count": 55,
      "outputs": [
        {
          "output_type": "execute_result",
          "data": {
            "text/plain": [
              "(['T', 'e', 'n', 's', 'o', 'r', 'f', 'l', 'o'],\n",
              " ['e', 'n', 's', 'o', 'r', 'f', 'l', 'o', 'w'])"
            ]
          },
          "metadata": {},
          "execution_count": 55
        }
      ]
    },
    {
      "cell_type": "code",
      "source": [
        "dataset = sequences.map(split_input_target)"
      ],
      "metadata": {
        "id": "KEc__CwO74_1"
      },
      "execution_count": 56,
      "outputs": []
    },
    {
      "cell_type": "code",
      "source": [
        "for input_example, target_example in dataset.take(1):\n",
        "    print(\"Input :\", text_from_ids(input_example).numpy())\n",
        "    print(\"Target:\", text_from_ids(target_example).numpy())"
      ],
      "metadata": {
        "colab": {
          "base_uri": "https://localhost:8080/"
        },
        "id": "Yi_j5UmU77NY",
        "outputId": "cb9976bb-0c59-4301-fe5f-63c9f4e92424"
      },
      "execution_count": 57,
      "outputs": [
        {
          "output_type": "stream",
          "name": "stdout",
          "text": [
            "Input : b'First Citizen:\\nBefore we proceed any further, hear me speak.\\n\\nAll:\\nSpeak, speak.\\n\\nFirst Citizen:\\nYou'\n",
            "Target: b'irst Citizen:\\nBefore we proceed any further, hear me speak.\\n\\nAll:\\nSpeak, speak.\\n\\nFirst Citizen:\\nYou '\n"
          ]
        }
      ]
    },
    {
      "cell_type": "markdown",
      "source": [
        "Membuat Batch Training\n",
        "Anda menggunakan tf.data untuk membagi teks menjadi sequence yang dapat diatur. Namun sebelum memasukkan data ini ke dalam model, Anda perlu mengacak data dan mengemasnya ke dalam batch."
      ],
      "metadata": {
        "id": "iHT-M5157_My"
      }
    },
    {
      "cell_type": "code",
      "source": [
        "# Batch size\n",
        "BATCH_SIZE = 64\n",
        "\n",
        "# Buffer size to shuffle the dataset\n",
        "# (TF data is designed to work with possibly infinite sequences,\n",
        "# so it doesn't attempt to shuffle the entire sequence in memory. Instead,\n",
        "# it maintains a buffer in which it shuffles elements).\n",
        "BUFFER_SIZE = 10000\n",
        "\n",
        "dataset = (\n",
        "    dataset\n",
        "    .shuffle(BUFFER_SIZE)\n",
        "    .batch(BATCH_SIZE, drop_remainder=True)\n",
        "    .prefetch(tf.data.experimental.AUTOTUNE))\n",
        "\n",
        "dataset"
      ],
      "metadata": {
        "colab": {
          "base_uri": "https://localhost:8080/"
        },
        "id": "tOQPrJCW7-wZ",
        "outputId": "b6e9a8fa-769d-4a2b-b926-8a36860ee950"
      },
      "execution_count": 58,
      "outputs": [
        {
          "output_type": "execute_result",
          "data": {
            "text/plain": [
              "<_PrefetchDataset element_spec=(TensorSpec(shape=(64, 100), dtype=tf.int64, name=None), TensorSpec(shape=(64, 100), dtype=tf.int64, name=None))>"
            ]
          },
          "metadata": {},
          "execution_count": 58
        }
      ]
    },
    {
      "cell_type": "markdown",
      "source": [
        "## Buat Model\n",
        "\n",
        "Bagian ini mendefinisikan model sebagai subkelas keras.Model (untuk lebih detilnya, lihat Making new Layers and Models via subclassing).\n",
        "\n",
        "Model yang kita bangun memiliki 3 lapisan neural network :\n",
        "\n",
        "- tf.keras.layers.Embedding: Lapisan masukan. Tabel pencarian yang dapat dilatih yang akan memetakan setiap karakter-ID ke vektor dengan dimensi embedding_dim;\n",
        "\n",
        "- tf.keras.layers.GRU: lapisan RNN dengan ukuran unit=rnn_units (Anda juga dapat menggunakan lapisan LSTM di sini.)\n",
        "\n",
        "- tf.keras.layers.Dense: Lapisan keluaran, dengan keluaran vocab_size. Ini menghasilkan satu logit untuk setiap karakter dalam kosakata. Ini adalah log kemungkinan setiap karakter menurut model."
      ],
      "metadata": {
        "id": "Lr1RvbSV8CNa"
      }
    },
    {
      "cell_type": "code",
      "source": [
        "# Length of the vocabulary in StringLookup Layer\n",
        "vocab_size = len(ids_from_chars.get_vocabulary())\n",
        "\n",
        "# The embedding dimension\n",
        "embedding_dim = 256\n",
        "\n",
        "# Number of RNN units\n",
        "rnn_units = 1024"
      ],
      "metadata": {
        "id": "dsu28lzy8JgY"
      },
      "execution_count": 59,
      "outputs": []
    },
    {
      "cell_type": "code",
      "source": [
        "class MyModel(tf.keras.Model):\n",
        "  def __init__(self, vocab_size, embedding_dim, rnn_units):\n",
        "    super().__init__(self)\n",
        "    self.embedding = tf.keras.layers.Embedding(vocab_size, embedding_dim)\n",
        "    self.gru = tf.keras.layers.GRU(rnn_units,\n",
        "                                   return_sequences=True,\n",
        "                                   return_state=True)\n",
        "    self.dense = tf.keras.layers.Dense(vocab_size)\n",
        "\n",
        "  def call(self, inputs, states=None, return_state=False, training=False):\n",
        "    x = inputs\n",
        "    x = self.embedding(x, training=training)\n",
        "    if states is None:\n",
        "      states = self.gru.get_initial_state(x)\n",
        "    x, states = self.gru(x, initial_state=states, training=training)\n",
        "    x = self.dense(x, training=training)\n",
        "\n",
        "    if return_state:\n",
        "      return x, states\n",
        "    else:\n",
        "      return x"
      ],
      "metadata": {
        "id": "_nhIfHxL8KvQ"
      },
      "execution_count": 60,
      "outputs": []
    },
    {
      "cell_type": "code",
      "source": [
        "model = MyModel(\n",
        "    vocab_size=vocab_size,\n",
        "    embedding_dim=embedding_dim,\n",
        "    rnn_units=rnn_units)"
      ],
      "metadata": {
        "id": "ml7s0OGc8Mv_"
      },
      "execution_count": 61,
      "outputs": []
    },
    {
      "cell_type": "markdown",
      "source": [
        "Untuk setiap karakter, model mencari penyematan, menjalankan GRU satu langkah waktu dengan penyematan sebagai masukan, dan menerapkan dense layer untuk menghasilkan log yang memprediksi kemungkinan log karakter berikutnya:\n",
        "![image.png](data:image/png;base64,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)"
      ],
      "metadata": {
        "id": "MiCrov3a8PKn"
      }
    },
    {
      "cell_type": "markdown",
      "source": [
        "Note: Untuk pelatihan Anda bisa menggunakan model keras.Sequential di sini. Untuk menghasilkan teks nanti, Anda harus mengelola status internal RNN. Akan lebih mudah untuk memasukkan opsi input dan output status di awal, daripada mengatur ulang arsitektur model nanti. untuk detailnya bisa dilihat Keras RNN guide."
      ],
      "metadata": {
        "id": "0cZ4Vhfn8RqH"
      }
    },
    {
      "cell_type": "markdown",
      "source": [
        "## Uji Model\n",
        "Coba jalankan model dan cek apakah sidah sesuai dengan output\n",
        "\n",
        "pertama, cek bentuk dari output"
      ],
      "metadata": {
        "id": "o6CLDT-88U0P"
      }
    },
    {
      "cell_type": "code",
      "source": [
        "for input_example_batch, target_example_batch in dataset.take(1):\n",
        "    example_batch_predictions = model(input_example_batch)\n",
        "    print(example_batch_predictions.shape, \"# (batch_size, sequence_length, vocab_size)\")"
      ],
      "metadata": {
        "colab": {
          "base_uri": "https://localhost:8080/"
        },
        "id": "_T8WCYUB8WfW",
        "outputId": "c74a6aff-32c0-4242-e9d0-1b029386093e"
      },
      "execution_count": 62,
      "outputs": [
        {
          "output_type": "stream",
          "name": "stdout",
          "text": [
            "(64, 100, 66) # (batch_size, sequence_length, vocab_size)\n"
          ]
        }
      ]
    },
    {
      "cell_type": "markdown",
      "source": [
        "Dalam contoh di atas, panjang urutan masukan adalah 100 tetapi model dapat dijalankan pada masukan dengan panjang berapa pun:"
      ],
      "metadata": {
        "id": "xWP3xNG88YMX"
      }
    },
    {
      "cell_type": "code",
      "source": [
        "model.summary()"
      ],
      "metadata": {
        "colab": {
          "base_uri": "https://localhost:8080/"
        },
        "id": "PEHGbS3Q8ZEj",
        "outputId": "e2ccc5d2-99eb-42f7-8497-cc3c93ac02ce"
      },
      "execution_count": 63,
      "outputs": [
        {
          "output_type": "stream",
          "name": "stdout",
          "text": [
            "Model: \"my_model\"\n",
            "_________________________________________________________________\n",
            " Layer (type)                Output Shape              Param #   \n",
            "=================================================================\n",
            " embedding_2 (Embedding)     multiple                  16896     \n",
            "                                                                 \n",
            " gru (GRU)                   multiple                  3938304   \n",
            "                                                                 \n",
            " dense_4 (Dense)             multiple                  67650     \n",
            "                                                                 \n",
            "=================================================================\n",
            "Total params: 4022850 (15.35 MB)\n",
            "Trainable params: 4022850 (15.35 MB)\n",
            "Non-trainable params: 0 (0.00 Byte)\n",
            "_________________________________________________________________\n"
          ]
        }
      ]
    },
    {
      "cell_type": "markdown",
      "source": [
        "Untuk mendapatkan prediksi aktual dari model, Anda perlu mengambil sampel dari distribusi keluaran, untuk mendapatkan indeks karakter aktual. Distribusi ini ditentukan oleh logit pada kosakata karakter. Catatan: Penting untuk mengambil sampel dari distribusi ini karena mengambil argmax dari distribusi tersebut dapat dengan mudah membuat model terjebak dalam infinote loop. Cobalah untuk contoh pertama di batch:"
      ],
      "metadata": {
        "id": "pYIK3zRf8cA-"
      }
    },
    {
      "cell_type": "code",
      "source": [
        "sampled_indices = tf.random.categorical(example_batch_predictions[0], num_samples=1)\n",
        "sampled_indices = tf.squeeze(sampled_indices, axis=-1).numpy()"
      ],
      "metadata": {
        "id": "VE5RAD1ZAAnO"
      },
      "execution_count": 64,
      "outputs": []
    },
    {
      "cell_type": "markdown",
      "source": [
        "Hal ini memberi kita, pada setiap langkah waktu, prediksi indeks karakter berikutnya:"
      ],
      "metadata": {
        "id": "y44HHvZHAD7G"
      }
    },
    {
      "cell_type": "code",
      "source": [
        "sampled_indices"
      ],
      "metadata": {
        "colab": {
          "base_uri": "https://localhost:8080/"
        },
        "id": "mZgD7nyPAEpW",
        "outputId": "b20290c1-3c09-47d4-9f1f-9e39d6fae959"
      },
      "execution_count": 65,
      "outputs": [
        {
          "output_type": "execute_result",
          "data": {
            "text/plain": [
              "array([38, 49, 21, 24, 47, 63, 12, 54, 36, 64, 25,  0, 27, 39, 27, 54,  3,\n",
              "       26, 48,  7, 10, 18, 26, 16, 43, 38, 52, 18, 42, 61, 11, 21, 28, 33,\n",
              "       39, 37, 15, 38, 62, 37, 62,  0, 31, 25, 22, 36, 52, 59, 23, 27, 26,\n",
              "       35, 54, 26, 47, 33, 10, 28, 47, 24,  5, 14, 49, 14, 31, 42, 30,  2,\n",
              "       65, 38,  6, 10, 29, 46, 17, 57, 50,  3,  1, 25,  5,  4, 18, 62, 18,\n",
              "       41, 14, 22, 43,  6,  3, 31, 36, 53, 13, 20, 32, 64, 41,  6])"
            ]
          },
          "metadata": {},
          "execution_count": 65
        }
      ]
    },
    {
      "cell_type": "markdown",
      "source": [
        "Dekode kode berikut untuk melihat teks yang diprediksi oleh model tidak terlatih ini:"
      ],
      "metadata": {
        "id": "sKmAAnUPAGqQ"
      }
    },
    {
      "cell_type": "code",
      "source": [
        "print(\"Input:\\n\", text_from_ids(input_example_batch[0]).numpy())\n",
        "print()\n",
        "print(\"Next Char Predictions:\\n\", text_from_ids(sampled_indices).numpy())"
      ],
      "metadata": {
        "colab": {
          "base_uri": "https://localhost:8080/"
        },
        "id": "YPdt1lt3AIxD",
        "outputId": "329935de-0ba9-4b36-93a2-8e5726df89f5"
      },
      "execution_count": 67,
      "outputs": [
        {
          "output_type": "stream",
          "name": "stdout",
          "text": [
            "Input:\n",
            " b'you were past all shame,--\\nThose of your fact are so--so past all truth:\\nWhich to deny concerns more'\n",
            "\n",
            "Next Char Predictions:\n",
            " b\"YjHKhx;oWyL[UNK]NZNo!Mi,3EMCdYmEcv:HOTZXBYwXw[UNK]RLIWmtJNMVoMhT3OhK&AjARcQ zY'3PgDrk!\\nL&$EwEbAId'!RWn?GSyb'\"\n"
          ]
        }
      ]
    },
    {
      "cell_type": "markdown",
      "source": [
        "## Train Model\n",
        "Pada titik ini permasalahan dapat dianggap sebagai permasalahan klasifikasi standar. Permasalahan dapat disimpulkan dengan : Berdasarkan status RNN sebelumnya, dan masukan langkah kali ini, prediksi kelas karakter berikutnya.\n",
        "\n",
        "Tambahan optimizer dan fungsi loss\n",
        "\n",
        "loss function tf.keras.losses.sparse_categorical_crossentropy standar berfungsi dalam kasus ini karena diterapkan di seluruh dimensi terakhir prediksi. Karena model Anda mengembalikan logits, Anda perlu mengatur flag from_logits."
      ],
      "metadata": {
        "id": "gmJSYEq8AIXV"
      }
    },
    {
      "cell_type": "code",
      "source": [
        "loss = tf.losses.SparseCategoricalCrossentropy(from_logits=True)"
      ],
      "metadata": {
        "id": "L65zF83AAZGG"
      },
      "execution_count": 68,
      "outputs": []
    },
    {
      "cell_type": "code",
      "source": [
        "example_batch_mean_loss = loss(target_example_batch, example_batch_predictions)\n",
        "print(\"Prediction shape: \", example_batch_predictions.shape, \" # (batch_size, sequence_length, vocab_size)\")\n",
        "print(\"Mean loss:        \", example_batch_mean_loss)"
      ],
      "metadata": {
        "colab": {
          "base_uri": "https://localhost:8080/"
        },
        "id": "7ZLu9TF2Ael2",
        "outputId": "6cf72f49-29a8-47da-e769-94aecf9ed9b7"
      },
      "execution_count": 69,
      "outputs": [
        {
          "output_type": "stream",
          "name": "stdout",
          "text": [
            "Prediction shape:  (64, 100, 66)  # (batch_size, sequence_length, vocab_size)\n",
            "Mean loss:         tf.Tensor(4.1910377, shape=(), dtype=float32)\n"
          ]
        }
      ]
    },
    {
      "cell_type": "markdown",
      "source": [
        "Model yang baru diinisialisasi tidak boleh terlalu yakin dengan dirinya sendiri, semua log keluaran harus memiliki besaran yang sama. Untuk mengonfirmasi hal ini, Anda dapat memeriksa bahwa eksponensial dari loss rata-rata harus kira-kira sama dengan ukuran kosakata. Loss yang jauh lebih tinggi berarti model tersebut yakin akan jawaban yang salah, dan memiliki inisialisasi yang buruk:"
      ],
      "metadata": {
        "id": "61DFP0B1AhR8"
      }
    },
    {
      "cell_type": "code",
      "source": [
        "tf.exp(example_batch_mean_loss).numpy()"
      ],
      "metadata": {
        "colab": {
          "base_uri": "https://localhost:8080/"
        },
        "id": "3bb9LVU2AiNs",
        "outputId": "2dad6f14-98e8-4034-d5b7-7e6fee393d27"
      },
      "execution_count": 70,
      "outputs": [
        {
          "output_type": "execute_result",
          "data": {
            "text/plain": [
              "66.09134"
            ]
          },
          "metadata": {},
          "execution_count": 70
        }
      ]
    },
    {
      "cell_type": "markdown",
      "source": [
        "Konfigurasikan prosedur pelatihan menggunakan metode tf.keras.Model.compile. Gunakan tf.keras.optimizers.Adam dengan argumen default dan fungsi loss."
      ],
      "metadata": {
        "id": "LcPqEr4cAkhT"
      }
    },
    {
      "cell_type": "code",
      "source": [
        "model.compile(optimizer='adam', loss=loss)"
      ],
      "metadata": {
        "id": "0za8GQD_AlMj"
      },
      "execution_count": 72,
      "outputs": []
    },
    {
      "cell_type": "markdown",
      "source": [
        "Konfigurasi Checkpoints\n",
        "\n",
        "Gunakan tf.keras.callbacks.ModelCheckpoint untuk memastikan bahwa checkpoint disimpan selama pelatihan:"
      ],
      "metadata": {
        "id": "nDnDd7S8AoKh"
      }
    },
    {
      "cell_type": "code",
      "source": [
        "# Directory where the checkpoints will be saved\n",
        "checkpoint_dir = './training_checkpoints'\n",
        "# Name of the checkpoint files\n",
        "checkpoint_prefix = os.path.join(checkpoint_dir, \"ckpt_{epoch}\")\n",
        "\n",
        "checkpoint_callback = tf.keras.callbacks.ModelCheckpoint(\n",
        "    filepath=checkpoint_prefix,\n",
        "    save_weights_only=True)"
      ],
      "metadata": {
        "id": "HJrDx4lwArP9"
      },
      "execution_count": 73,
      "outputs": []
    },
    {
      "cell_type": "markdown",
      "source": [
        "Lakukan Proses Training\n",
        "\n",
        "Agar waktu pelatihan tidak terlalu lama, gunakan 10 epoch untuk melatih model. Di Colab, setel runtime ke GPU untuk pelatihan yang lebih cepat."
      ],
      "metadata": {
        "id": "Jbt05Vd2AtX0"
      }
    },
    {
      "cell_type": "code",
      "source": [
        "EPOCHS = 5"
      ],
      "metadata": {
        "id": "zrAV8GIeAu4c"
      },
      "execution_count": 77,
      "outputs": []
    },
    {
      "cell_type": "code",
      "source": [
        "history = model.fit(dataset, epochs=EPOCHS, callbacks=[checkpoint_callback])"
      ],
      "metadata": {
        "colab": {
          "base_uri": "https://localhost:8080/"
        },
        "id": "0HvjUaVhAw4M",
        "outputId": "524b6bff-b268-45d2-bf38-2b46316c6813"
      },
      "execution_count": 78,
      "outputs": [
        {
          "output_type": "stream",
          "name": "stdout",
          "text": [
            "Epoch 1/5\n",
            "172/172 [==============================] - 126s 725ms/step - loss: 2.6554\n",
            "Epoch 2/5\n",
            "172/172 [==============================] - 125s 723ms/step - loss: 1.9904\n",
            "Epoch 3/5\n",
            "172/172 [==============================] - 125s 721ms/step - loss: 1.7147\n",
            "Epoch 4/5\n",
            "172/172 [==============================] - 125s 722ms/step - loss: 1.5523\n",
            "Epoch 5/5\n",
            "172/172 [==============================] - 125s 720ms/step - loss: 1.4525\n"
          ]
        }
      ]
    },
    {
      "cell_type": "markdown",
      "source": [
        "## Generate Teks\n",
        "Cara termudah untuk menghasilkan teks dengan model ini adalah dengan menjalankannya dalam loop, dan menyimpan status internal model saat Anda menjalankannya.\n",
        "![image.png](data:image/png;base64,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)"
      ],
      "metadata": {
        "id": "9gLIdezNFkjO"
      }
    },
    {
      "cell_type": "markdown",
      "source": [
        "Setiap kali Anda memanggil model, Anda memasukkan beberapa teks dan state internal. Model mengembalikan prediksi untuk karakter berikutnya dan state barunya. Masukkan kembali prediksi dan state ke model untuk terus menghasilkan teks.\n",
        "\n",
        "Berikut ini membuat prediksi satu langkah:"
      ],
      "metadata": {
        "id": "dZchOfX4Frxe"
      }
    },
    {
      "cell_type": "code",
      "source": [
        "class OneStep(tf.keras.Model):\n",
        "  def __init__(self, model, chars_from_ids, ids_from_chars, temperature=1.0):\n",
        "    super().__init__()\n",
        "    self.temperature = temperature\n",
        "    self.model = model\n",
        "    self.chars_from_ids = chars_from_ids\n",
        "    self.ids_from_chars = ids_from_chars\n",
        "\n",
        "    # Create a mask to prevent \"[UNK]\" from being generated.\n",
        "    skip_ids = self.ids_from_chars(['[UNK]'])[:, None]\n",
        "    sparse_mask = tf.SparseTensor(\n",
        "        # Put a -inf at each bad index.\n",
        "        values=[-float('inf')]*len(skip_ids),\n",
        "        indices=skip_ids,\n",
        "        # Match the shape to the vocabulary\n",
        "        dense_shape=[len(ids_from_chars.get_vocabulary())])\n",
        "    self.prediction_mask = tf.sparse.to_dense(sparse_mask)\n",
        "\n",
        "  @tf.function\n",
        "  def generate_one_step(self, inputs, states=None):\n",
        "    # Convert strings to token IDs.\n",
        "    input_chars = tf.strings.unicode_split(inputs, 'UTF-8')\n",
        "    input_ids = self.ids_from_chars(input_chars).to_tensor()\n",
        "\n",
        "    # Run the model.\n",
        "    # predicted_logits.shape is [batch, char, next_char_logits]\n",
        "    predicted_logits, states = self.model(inputs=input_ids, states=states,\n",
        "                                          return_state=True)\n",
        "    # Only use the last prediction.\n",
        "    predicted_logits = predicted_logits[:, -1, :]\n",
        "    predicted_logits = predicted_logits/self.temperature\n",
        "    # Apply the prediction mask: prevent \"[UNK]\" from being generated.\n",
        "    predicted_logits = predicted_logits + self.prediction_mask\n",
        "\n",
        "    # Sample the output logits to generate token IDs.\n",
        "    predicted_ids = tf.random.categorical(predicted_logits, num_samples=1)\n",
        "    predicted_ids = tf.squeeze(predicted_ids, axis=-1)\n",
        "\n",
        "    # Convert from token ids to characters\n",
        "    predicted_chars = self.chars_from_ids(predicted_ids)\n",
        "\n",
        "    # Return the characters and model state.\n",
        "    return predicted_chars, states"
      ],
      "metadata": {
        "id": "YWfZS7VZFvWd"
      },
      "execution_count": 79,
      "outputs": []
    },
    {
      "cell_type": "code",
      "source": [
        "one_step_model = OneStep(model, chars_from_ids, ids_from_chars)"
      ],
      "metadata": {
        "id": "0oB4Yjz6Fy2U"
      },
      "execution_count": 80,
      "outputs": []
    },
    {
      "cell_type": "markdown",
      "source": [
        "Jalankan secara berulang untuk menghasilkan beberapa teks. Melihat teks yang dihasilkan, Anda akan melihat model mengetahui kapan harus menggunakan huruf besar, membuat paragraf, dan meniru kosakata menulis seperti Shakespeare. Karena sedikitnya jumlah epoch pelatihan, model belum belajar membentuk kalimat runtut."
      ],
      "metadata": {
        "id": "7RO9hTcDF1o0"
      }
    },
    {
      "cell_type": "code",
      "source": [
        "start = time.time()\n",
        "states = None\n",
        "next_char = tf.constant(['ROMEO:'])\n",
        "result = [next_char]\n",
        "\n",
        "for n in range(1000):\n",
        "  next_char, states = one_step_model.generate_one_step(next_char, states=states)\n",
        "  result.append(next_char)\n",
        "\n",
        "result = tf.strings.join(result)\n",
        "end = time.time()\n",
        "print(result[0].numpy().decode('utf-8'), '\\n\\n' + '_'*80)\n",
        "print('\\nRun time:', end - start)"
      ],
      "metadata": {
        "colab": {
          "base_uri": "https://localhost:8080/"
        },
        "id": "hsXYMnHIF3y0",
        "outputId": "cf0c5b84-1467-4435-bb09-dbe4a2c663fd"
      },
      "execution_count": 81,
      "outputs": [
        {
          "output_type": "stream",
          "name": "stdout",
          "text": [
            "ROMEO:\n",
            "My brother Ears! dead now you, in her blinds him contune:\n",
            "Who canst satist beggar: bring in grounds?\n",
            "Why let his neast do?\n",
            "\n",
            "ISABELLA:\n",
            "Must be roys, and, in his hands on.\n",
            "What after he woundly sits, how sad you are,\n",
            "Coneitnes thine heaving enderous toward of the dateral of his dishances,\n",
            "To meer her disledge myse fellingers\n",
            "you should requise and stand beful her; sticl by consured\n",
            "For that thou through the bisdaltions a dison'd,\n",
            "becidels hould not look ie, in compling will he take to help\n",
            "Uther that I'll help poor like it not?\n",
            "Bounding it, he, that have eye the steems,--\n",
            "Was the coust of my loves dares,\n",
            "when Angillo, I sir, I was a fellow; and dear and gave\n",
            "Assidence at Plapanio, not hath to higher,\n",
            "Signified to murth us, my lord, to perform much as, the\n",
            "shame dark: Bulieler, trust him: let She looks had? here ettuneing taint\n",
            "Dishment on himself I will heap me\n",
            "To the duebin of one must stools to tears, it bald there,\n",
            "And now he is thou shead spock'd to-the bedree,\n",
            "What which you say ei \n",
            "\n",
            "________________________________________________________________________________\n",
            "\n",
            "Run time: 2.5013394355773926\n"
          ]
        }
      ]
    },
    {
      "cell_type": "markdown",
      "source": [
        "Hal termudah yang dapat Anda lakukan untuk meningkatkan hasil adalah dengan melatihnya lebih lama (coba EPOCHS = 30). Anda juga dapat bereksperimen dengan string awal yang berbeda, mencoba menambahkan lapisan RNN lain untuk meningkatkan akurasi model, atau menyesuaikan parameter suhu untuk menghasilkan prediksi yang kurang lebih acak.\n",
        "\n",
        "Jika Anda ingin model menghasilkan teks lebih cepat, hal termudah yang dapat Anda lakukan adalah membuat teks secara batch. Pada contoh di bawah, model menghasilkan 5 keluaran dalam waktu yang hampir sama dengan waktu yang dibutuhkan untuk menghasilkan 1 keluaran di atas."
      ],
      "metadata": {
        "id": "y1b7AGwgF6S8"
      }
    },
    {
      "cell_type": "code",
      "source": [
        "start = time.time()\n",
        "states = None\n",
        "next_char = tf.constant(['ROMEO:', 'ROMEO:', 'ROMEO:', 'ROMEO:', 'ROMEO:'])\n",
        "result = [next_char]\n",
        "\n",
        "for n in range(1000):\n",
        "  next_char, states = one_step_model.generate_one_step(next_char, states=states)\n",
        "  result.append(next_char)\n",
        "\n",
        "result = tf.strings.join(result)\n",
        "end = time.time()\n",
        "print(result, '\\n\\n' + '_'*80)\n",
        "print('\\nRun time:', end - start)"
      ],
      "metadata": {
        "colab": {
          "base_uri": "https://localhost:8080/"
        },
        "id": "obP7PsnVF7VN",
        "outputId": "a7148c3c-7f99-4a9e-d6a3-28568b2946e5"
      },
      "execution_count": 82,
      "outputs": [
        {
          "output_type": "stream",
          "name": "stdout",
          "text": [
            "tf.Tensor(\n",
            "[b\"ROMEO:\\nHo knowledger, I may came yee for their heads in ever:\\nI'ld say shall never him of Eeth apod,\\nBecoud one his men in over. Is, byot both in me:\\nAnd sie, for you are tull us a daught gave me, and see the like.\\nBut to conves and gall of lat,\\nBine dring tell to her wounds hardy, tell time\\nI hear in a diams call'd, I proud that stumber;\\nErvant his power.\\n\\nKING RICHARD III:\\nRess, revail, lose is made it do.\\n\\nFrivonter:\\nHish enury'st injury tioul!\\n\\nFirst Cenat:\\nMadam, though mine old,\\nThough our I do, true, the mindwe me so, Profes;\\nOne propacue; no more good beasts\\nFor thy nature, detcen reward's many:\\nWhen is this when?\\n\\nCAMILLO:\\n'Tis leave you, lord, like a gods,\\nThat's Love crast hate unto his world's grave\\nYear honour vightinns, and the duke me still upon?\\n\\nA EYBYORY:\\nLontham, the osein he last my taust.\\n\\nGREBOO:\\nDo not somewers feach.\\n\\nBANTINANUS:\\nI fid you? O, the next higher's true love;\\nI as I would thy lodge of me for the people\\nConsuls ere that he we'll\\nher not see more know now,\\n\"\n",
            " b\"ROMEO:\\nI to to hid.\\n\\nYORK:\\nFrathin, restant, reseeted why should reso,\\nher loving together, hoply in thus; who hast thee such mone:\\nWell, sates, my lord,\\nSuch the queen, of what a laty ship-sheeper, the Captient it not but dote\\nThis sadning brief loss without were fongeedings.\\n\\nRIVERS:\\nO, like as I have been uponattue, in aught\\nHatted of my dramporm'd menant to his?\\nYe' reserve what I herr;\\nnow the shapping be knewn as out.\\n\\nLEONTES:\\nThere's which I can her, what he so.\\n\\nPRISPERO:\\nPier Comen? Dore the labos\\nA queen, stands to sald-me his lidge.\\n\\nLEONTES:\\nWhy, he would not begbond.\\nShould leave shall please it? belike a thing I had even his pyill?\\n\\nAUFIDIUS:\\nAffecting eled,\\nMosenty scept Peterens no threathen of high is,\\nIs departer them cur, onl you to pay 'Ay.\\n\\nFirst Seengil, I may neare uple\\nDid whith he would be a houserous vidunes,\\nAnd right what he will know the duke after himself, who, I'll tuaded to know,\\nit, whats late me known break these armissut\\nThy vereful accusation speak. Come,\"\n",
            " b\"ROMEO:\\nNo, then, enfering heart, not.\\n\\nLADTA:\\nI stand bote, mo neme, good forgabe in our passamel,\\nLet gune loved to the king.\\n\\nCAMILLO:\\nA greater duke me to him when I must not to do instruss, wo let my sake, do.\\n\\nGeordEL:\\nA greaty hap so, being said 'V:\\nbuint I pardon'd with a lail, I shall device.\\n\\nTARHICK:\\nDarenes, I knor not for worst our: is dead to the ulms in trumber are give\\nTo true against his son.\\n\\nKATHARINA:\\nThey are fell with owary with his laster.\\n\\nCAPULES:\\nLook, my unws brows the skill reppite and cut in the tordens, of my face\\nThou a thring into a son'd, a resueting cause\\nWould I be trial: out off early; sir.\\n\\nCorious:\\nWas ghost; so, no, dogming,---his ghats, so bring goad, for he shall coundes--\\nBe so not. But that easty placest, and hum for\\nthe life in this us of her obey.\\nNow as every tellows are undeer,\\nFirst, men partages, viletama clame me.\\nIn lord; how procly sword, when, disporries! Yet see you perinch?\\n\\nClown:\\nWhAt a should preving the corse; come. \\nFirst God's:\\nAnd \"\n",
            " b\"ROMEO:\\nYou never, my hearth again.\\n\\nWARWICK:\\nGo save the dray, if you curs' this childry fall,\\nOn eye, come, but O:f sien marry.\\n\\nPRUTUS:\\nWhey lend us I'll duk upon him.\\n\\nHORTENSIO:\\nNighing, my Lord Marrains: my mages, and her said\\nAll gods wrong, with thee are, us.\\n\\nCominLA:\\nYet on to,\\nAugh, as you and that! my mades?\\n\\nHerenRIS:\\nYet, be music,\\nAnd will hour mend on or stall suss\\nwhen do plotsue for his pairles.\\n\\nHENRY VO:\\nGo, look one Marsain! Guted, whoms boy to make merebbess\\nThat inlose, then carry that\\nThreat notfion, would I clads\\nTo ass' not four had with him hedself.\\n\\nHENRY BOLINGBROHER:\\nAbstood myself! wouldwess I had not the\\nHisdech! o liftle wonders to know.\\n\\nPOMPEY:\\nDistune she should advise our norrance, whilst I am ring'd to to\\nWhence very hate had to lie? and than sigh,\\nAnd speak and march orderanges\\nSeal mine herpisant and his number, why in a boar pores with sid\\nDaughter him. 'Bunties may me; pite to you, I have her:\\nBut laties again. But the mad if enough for death.\\n\\nRITHAR\"\n",
            " b\"ROMEO:\\nShir thou art to so, no maw wrong, marrice?\\n\\nKING RICHARD II:\\nBuside! 'tiss; and my lords; nod\\nnow the man stangly are. Walt flower indeed?\\n\\nFirst Merds,\\nA mean shall you have the holsman blood shall hadse to tell you.\\n\\nMONTAGUE:\\nA speak of little brother:\\nAnd so stroth it was a youngs made me!\\n\\nHASTINGS:\\nPlay thy man is marryar thus, not bless\\nTo help wound all bearing to my letter: yet I'll hear besold him\\nreceive on his shall be honest, thou man'st which thy life:\\nI catnous caunt I stink, and charges me longer him he care\\nAbout means to others he is shis the efector shall my despite.\\n\\nSICINIUS:\\nTake of time, there bresh his hop is he\\ndo to your eyes to request of his head;\\nFrom buteless this woed again; I have the rune'\\nEnenever you I noter his pleasures,\\nOn and Akelles to them. Let I fair framed\\nBut much haighter; seeds that rilegh mercy.\\n\\nPRINCE EDWARD:\\nCanst thou as the same's nots are distless livines,\\nWhirst thou amisifies thy words bringthen, I do presens we than ruchly?\\n\\nCAM\"], shape=(5,), dtype=string) \n",
            "\n",
            "________________________________________________________________________________\n",
            "\n",
            "Run time: 2.973179340362549\n"
          ]
        }
      ]
    },
    {
      "cell_type": "markdown",
      "source": [
        "## Ekspor Model Generator\n",
        "Model satu langkah ini dapat dengan mudah disimpan dan digunakan kembali, memungkinkan Anda menggunakannya di mana pun tf.saved_model diterima."
      ],
      "metadata": {
        "id": "Xa3KIhm7F9xq"
      }
    },
    {
      "cell_type": "code",
      "source": [
        "tf.saved_model.save(one_step_model, 'one_step')\n",
        "one_step_reloaded = tf.saved_model.load('one_step')"
      ],
      "metadata": {
        "colab": {
          "base_uri": "https://localhost:8080/"
        },
        "id": "sY6GwPSSF_g1",
        "outputId": "d2d10736-ea81-421a-c493-1d52a384c013"
      },
      "execution_count": 83,
      "outputs": [
        {
          "output_type": "stream",
          "name": "stderr",
          "text": [
            "WARNING:tensorflow:Skipping full serialization of Keras layer <__main__.OneStep object at 0x7dd921dc9780>, because it is not built.\n",
            "WARNING:tensorflow:Model's `__init__()` arguments contain non-serializable objects. Please implement a `get_config()` method in the subclassed Model for proper saving and loading. Defaulting to empty config.\n",
            "WARNING:tensorflow:Model's `__init__()` arguments contain non-serializable objects. Please implement a `get_config()` method in the subclassed Model for proper saving and loading. Defaulting to empty config.\n"
          ]
        }
      ]
    },
    {
      "cell_type": "code",
      "source": [
        "states = None\n",
        "next_char = tf.constant(['ROMEO:'])\n",
        "result = [next_char]\n",
        "\n",
        "for n in range(100):\n",
        "  next_char, states = one_step_reloaded.generate_one_step(next_char, states=states)\n",
        "  result.append(next_char)\n",
        "\n",
        "print(tf.strings.join(result)[0].numpy().decode(\"utf-8\"))"
      ],
      "metadata": {
        "colab": {
          "base_uri": "https://localhost:8080/"
        },
        "id": "HNkzoE9cGAsJ",
        "outputId": "f89164fa-9cf0-4e3e-9807-62ec9272d420"
      },
      "execution_count": 84,
      "outputs": [
        {
          "output_type": "stream",
          "name": "stdout",
          "text": [
            "ROMEO:\n",
            "Verm is no offence, mentle delight, I am not?\n",
            "But, in over! far's a king,\n",
            "Think, enes! no, I weary \n"
          ]
        }
      ]
    }
  ]
}