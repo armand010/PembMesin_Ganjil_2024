{
  "nbformat": 4,
  "nbformat_minor": 0,
  "metadata": {
    "colab": {
      "provenance": [],
      "authorship_tag": "ABX9TyMsj3Xc5TA7JF0o7FzaFmEh",
      "include_colab_link": true
    },
    "kernelspec": {
      "name": "python3",
      "display_name": "Python 3"
    },
    "language_info": {
      "name": "python"
    }
  },
  "cells": [
    {
      "cell_type": "markdown",
      "metadata": {
        "id": "view-in-github",
        "colab_type": "text"
      },
      "source": [
        "<a href=\"https://colab.research.google.com/github/armand010/PembMesin_Ganjil_2024/blob/main/Week2_TugasPraktikum.ipynb\" target=\"_parent\"><img src=\"https://colab.research.google.com/assets/colab-badge.svg\" alt=\"Open In Colab\"/></a>"
      ]
    },
    {
      "cell_type": "code",
      "execution_count": 2,
      "metadata": {
        "colab": {
          "base_uri": "https://localhost:8080/"
        },
        "id": "a2I6kv_LM-cL",
        "outputId": "4f8d06ba-6d1c-457d-ce5f-090801dd99a8"
      },
      "outputs": [
        {
          "output_type": "stream",
          "name": "stdout",
          "text": [
            "Jumlah label data asli:\n",
            "diagnosis\n",
            "-0.770609    357\n",
            " 1.297676    212\n",
            "Name: count, dtype: int64\n",
            "Jumlah label data train:\n",
            "diagnosis\n",
            "-0.770609    290\n",
            " 1.297676    165\n",
            "Name: count, dtype: int64\n",
            "Jumlah label data test:\n",
            "diagnosis\n",
            "-0.770609    67\n",
            " 1.297676    47\n",
            "Name: count, dtype: int64\n"
          ]
        }
      ],
      "source": [
        "# TUGAS PRAKTIKUM\n",
        "import pandas as pd\n",
        "from sklearn.preprocessing import LabelEncoder, StandardScaler\n",
        "\n",
        "data = 'wbc.csv'\n",
        "df = pd.read_csv(data)\n",
        "\n",
        "df.head()\n",
        "\n",
        "# Memakai kolom diagnosis saja (1)\n",
        "df = df[['diagnosis']]\n",
        "\n",
        "# Encoding pada kolom diagnosis (2)\n",
        "le = LabelEncoder()\n",
        "df['diagnosis'] = le.fit_transform(df['diagnosis'])\n",
        "\n",
        "# Standarisasi pada kolom diagnosis (3)\n",
        "std = StandardScaler()\n",
        "df['diagnosis'] = std.fit_transform(df[['diagnosis']])\n",
        "\n",
        "# Split Data testing dan test dengan rasio 8:2 (4)\n",
        "from sklearn.model_selection import train_test_split\n",
        "\n",
        "df_train, df_test = train_test_split(df, test_size=0.2, random_state=0)\n",
        "\n",
        "print(f'Jumlah label data asli:\\n{df.diagnosis.value_counts()}')\n",
        "print(f'Jumlah label data train:\\n{df_train.diagnosis.value_counts()}')\n",
        "print(f'Jumlah label data test:\\n{df_test.diagnosis.value_counts()}')"
      ]
    }
  ]
}